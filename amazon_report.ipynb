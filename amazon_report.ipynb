{
 "cells": [
  {
   "cell_type": "markdown",
   "id": "1c3ec039-e683-47ed-902f-5af0a5f24b15",
   "metadata": {},
   "source": [
    "# Amazon Report"
   ]
  },
  {
   "cell_type": "code",
   "execution_count": 4,
   "id": "1e4f1970-5b9b-4b15-82fd-8c697ed5d17a",
   "metadata": {},
   "outputs": [],
   "source": [
    "import pandas as pd\n",
    "import numpy as np"
   ]
  },
  {
   "cell_type": "code",
   "execution_count": 5,
   "id": "08d55465-e389-4895-9ec0-ff63850e6705",
   "metadata": {},
   "outputs": [],
   "source": [
    "customers = pd.read_csv(\"amazon_customers_dirty.csv\")\n",
    "deliveries = pd.read_csv(\"amazon_deliveries_dirty.csv\")\n",
    "order_items = pd.read_csv(\"amazon_order_items_dirty.csv\")\n",
    "orders = pd.read_csv(\"amazon_orders_dirty.csv\")\n",
    "products= pd.read_csv(\"amazon_products_dirty.csv\")\n",
    "stocks= pd.read_csv(\"amazon_stock_dirty.csv\")"
   ]
  },
  {
   "cell_type": "markdown",
   "id": "1cf0a05d-b76a-496b-877c-d4f113a552b3",
   "metadata": {},
   "source": [
    "# Clean the customers data"
   ]
  },
  {
   "cell_type": "code",
   "execution_count": 6,
   "id": "af1deda7-5785-4914-9db9-c413e9e53562",
   "metadata": {},
   "outputs": [
    {
     "data": {
      "text/html": [
       "<div>\n",
       "<style scoped>\n",
       "    .dataframe tbody tr th:only-of-type {\n",
       "        vertical-align: middle;\n",
       "    }\n",
       "\n",
       "    .dataframe tbody tr th {\n",
       "        vertical-align: top;\n",
       "    }\n",
       "\n",
       "    .dataframe thead th {\n",
       "        text-align: right;\n",
       "    }\n",
       "</style>\n",
       "<table border=\"1\" class=\"dataframe\">\n",
       "  <thead>\n",
       "    <tr style=\"text-align: right;\">\n",
       "      <th></th>\n",
       "      <th>customer_id</th>\n",
       "      <th>customer_name</th>\n",
       "      <th>email</th>\n",
       "      <th>country</th>\n",
       "      <th>registration_date</th>\n",
       "    </tr>\n",
       "  </thead>\n",
       "  <tbody>\n",
       "    <tr>\n",
       "      <th>0</th>\n",
       "      <td>C1000</td>\n",
       "      <td>Alexandra Carlson</td>\n",
       "      <td>alexandra.carlson@gmail.com</td>\n",
       "      <td>Chad</td>\n",
       "      <td>11/3/2021</td>\n",
       "    </tr>\n",
       "    <tr>\n",
       "      <th>1</th>\n",
       "      <td>C1001</td>\n",
       "      <td>Donna Evans</td>\n",
       "      <td>donna.evans@gmail.com</td>\n",
       "      <td>Afghanistan</td>\n",
       "      <td>8/26/2020</td>\n",
       "    </tr>\n",
       "    <tr>\n",
       "      <th>2</th>\n",
       "      <td>C1002</td>\n",
       "      <td>Kimberly Levy</td>\n",
       "      <td>kimberly.levy@outlook.com</td>\n",
       "      <td>monaco</td>\n",
       "      <td>6/27/2014</td>\n",
       "    </tr>\n",
       "    <tr>\n",
       "      <th>3</th>\n",
       "      <td>C1003</td>\n",
       "      <td>Jennifer Wells</td>\n",
       "      <td>jennifer.wells@yahoo.com</td>\n",
       "      <td>PARAGUAY</td>\n",
       "      <td>11/11/2024</td>\n",
       "    </tr>\n",
       "    <tr>\n",
       "      <th>4</th>\n",
       "      <td>C1004</td>\n",
       "      <td>Erin Garcia</td>\n",
       "      <td>erin.garcia@yahoo.com</td>\n",
       "      <td>Nicaragua</td>\n",
       "      <td>2/2/2024</td>\n",
       "    </tr>\n",
       "    <tr>\n",
       "      <th>5</th>\n",
       "      <td>C1005</td>\n",
       "      <td>Jonathon Hood</td>\n",
       "      <td>jonathon.hood@yahoo.com</td>\n",
       "      <td>Cambodia</td>\n",
       "      <td>2/27/2019</td>\n",
       "    </tr>\n",
       "    <tr>\n",
       "      <th>6</th>\n",
       "      <td>C1006</td>\n",
       "      <td>Jeffery Lam</td>\n",
       "      <td>NaN</td>\n",
       "      <td>Togo</td>\n",
       "      <td>11/15/2016</td>\n",
       "    </tr>\n",
       "    <tr>\n",
       "      <th>7</th>\n",
       "      <td>C1007</td>\n",
       "      <td>Roberta Gardner</td>\n",
       "      <td>roberta.gardner@icloud.com</td>\n",
       "      <td>Colombia</td>\n",
       "      <td>4/14/2022</td>\n",
       "    </tr>\n",
       "    <tr>\n",
       "      <th>8</th>\n",
       "      <td>C1008</td>\n",
       "      <td>Ralph Dillon</td>\n",
       "      <td>ralph.dillon@gmail.com</td>\n",
       "      <td>india</td>\n",
       "      <td>10/4/2017</td>\n",
       "    </tr>\n",
       "    <tr>\n",
       "      <th>9</th>\n",
       "      <td>C1009</td>\n",
       "      <td>John Acevedo</td>\n",
       "      <td>john.acevedo@icloud.com</td>\n",
       "      <td>Benin</td>\n",
       "      <td>4/16/2024</td>\n",
       "    </tr>\n",
       "  </tbody>\n",
       "</table>\n",
       "</div>"
      ],
      "text/plain": [
       "  customer_id      customer_name                        email      country  \\\n",
       "0       C1000  Alexandra Carlson  alexandra.carlson@gmail.com         Chad   \n",
       "1       C1001        Donna Evans        donna.evans@gmail.com  Afghanistan   \n",
       "2       C1002      Kimberly Levy    kimberly.levy@outlook.com       monaco   \n",
       "3       C1003     Jennifer Wells     jennifer.wells@yahoo.com     PARAGUAY   \n",
       "4       C1004        Erin Garcia        erin.garcia@yahoo.com    Nicaragua   \n",
       "5       C1005      Jonathon Hood      jonathon.hood@yahoo.com     Cambodia   \n",
       "6       C1006        Jeffery Lam                          NaN         Togo   \n",
       "7       C1007    Roberta Gardner   roberta.gardner@icloud.com     Colombia   \n",
       "8       C1008       Ralph Dillon       ralph.dillon@gmail.com        india   \n",
       "9       C1009       John Acevedo      john.acevedo@icloud.com        Benin   \n",
       "\n",
       "  registration_date  \n",
       "0         11/3/2021  \n",
       "1         8/26/2020  \n",
       "2         6/27/2014  \n",
       "3        11/11/2024  \n",
       "4          2/2/2024  \n",
       "5         2/27/2019  \n",
       "6        11/15/2016  \n",
       "7         4/14/2022  \n",
       "8         10/4/2017  \n",
       "9         4/16/2024  "
      ]
     },
     "execution_count": 6,
     "metadata": {},
     "output_type": "execute_result"
    }
   ],
   "source": [
    "customers.head(10)"
   ]
  },
  {
   "cell_type": "code",
   "execution_count": 8,
   "id": "e4ecc1df-8a6b-4dac-b8a5-e76ad8a4b15f",
   "metadata": {},
   "outputs": [
    {
     "name": "stdout",
     "output_type": "stream",
     "text": [
      "<class 'pandas.core.frame.DataFrame'>\n",
      "RangeIndex: 1000 entries, 0 to 999\n",
      "Data columns (total 5 columns):\n",
      " #   Column             Non-Null Count  Dtype \n",
      "---  ------             --------------  ----- \n",
      " 0   customer_id        1000 non-null   object\n",
      " 1   customer_name      1000 non-null   object\n",
      " 2   email              950 non-null    object\n",
      " 3   country            970 non-null    object\n",
      " 4   registration_date  1000 non-null   object\n",
      "dtypes: object(5)\n",
      "memory usage: 39.2+ KB\n"
     ]
    }
   ],
   "source": [
    "customers.info()"
   ]
  },
  {
   "cell_type": "code",
   "execution_count": 10,
   "id": "6f1e68f8-b957-4d14-a6d1-e1157fcbc754",
   "metadata": {},
   "outputs": [
    {
     "data": {
      "text/plain": [
       "customer_id           0\n",
       "customer_name         0\n",
       "email                50\n",
       "country              30\n",
       "registration_date     0\n",
       "dtype: int64"
      ]
     },
     "execution_count": 10,
     "metadata": {},
     "output_type": "execute_result"
    }
   ],
   "source": [
    "customers.isnull().sum()"
   ]
  },
  {
   "cell_type": "code",
   "execution_count": 14,
   "id": "dbb7577b-5760-4f6f-a4a5-83d7b1dddb9b",
   "metadata": {},
   "outputs": [],
   "source": [
    "customers_clean = customers.copy()"
   ]
  },
  {
   "cell_type": "code",
   "execution_count": 16,
   "id": "fef4a59f-5978-4c88-9f2e-5e652537fdb6",
   "metadata": {},
   "outputs": [],
   "source": [
    "customers_clean[\"country\"] = customers_clean[\"country\"].fillna(\"Unknow\")"
   ]
  },
  {
   "cell_type": "code",
   "execution_count": 17,
   "id": "283964ff-1115-42b9-aec0-0b592f094d14",
   "metadata": {},
   "outputs": [],
   "source": [
    "customers_clean[\"has_email\"] = customers_clean[\"email\"].notnull().astype(int)"
   ]
  },
  {
   "cell_type": "code",
   "execution_count": 18,
   "id": "57b7c29f-7469-42a7-803d-329e7efabe9b",
   "metadata": {},
   "outputs": [
    {
     "data": {
      "text/plain": [
       "customer_id           0\n",
       "customer_name         0\n",
       "email                50\n",
       "country               0\n",
       "registration_date     0\n",
       "has_email             0\n",
       "dtype: int64"
      ]
     },
     "execution_count": 18,
     "metadata": {},
     "output_type": "execute_result"
    }
   ],
   "source": [
    "customers_clean.isnull().sum()"
   ]
  },
  {
   "cell_type": "code",
   "execution_count": 19,
   "id": "3ffcd0f6-d66a-4c20-9801-b46f1d88cf06",
   "metadata": {},
   "outputs": [
    {
     "data": {
      "text/html": [
       "<div>\n",
       "<style scoped>\n",
       "    .dataframe tbody tr th:only-of-type {\n",
       "        vertical-align: middle;\n",
       "    }\n",
       "\n",
       "    .dataframe tbody tr th {\n",
       "        vertical-align: top;\n",
       "    }\n",
       "\n",
       "    .dataframe thead th {\n",
       "        text-align: right;\n",
       "    }\n",
       "</style>\n",
       "<table border=\"1\" class=\"dataframe\">\n",
       "  <thead>\n",
       "    <tr style=\"text-align: right;\">\n",
       "      <th></th>\n",
       "      <th>customer_id</th>\n",
       "      <th>customer_name</th>\n",
       "      <th>email</th>\n",
       "      <th>country</th>\n",
       "      <th>registration_date</th>\n",
       "      <th>has_email</th>\n",
       "    </tr>\n",
       "  </thead>\n",
       "  <tbody>\n",
       "    <tr>\n",
       "      <th>0</th>\n",
       "      <td>C1000</td>\n",
       "      <td>Alexandra Carlson</td>\n",
       "      <td>alexandra.carlson@gmail.com</td>\n",
       "      <td>Chad</td>\n",
       "      <td>11/3/2021</td>\n",
       "      <td>1</td>\n",
       "    </tr>\n",
       "    <tr>\n",
       "      <th>1</th>\n",
       "      <td>C1001</td>\n",
       "      <td>Donna Evans</td>\n",
       "      <td>donna.evans@gmail.com</td>\n",
       "      <td>Afghanistan</td>\n",
       "      <td>8/26/2020</td>\n",
       "      <td>1</td>\n",
       "    </tr>\n",
       "    <tr>\n",
       "      <th>2</th>\n",
       "      <td>C1002</td>\n",
       "      <td>Kimberly Levy</td>\n",
       "      <td>kimberly.levy@outlook.com</td>\n",
       "      <td>monaco</td>\n",
       "      <td>6/27/2014</td>\n",
       "      <td>1</td>\n",
       "    </tr>\n",
       "    <tr>\n",
       "      <th>3</th>\n",
       "      <td>C1003</td>\n",
       "      <td>Jennifer Wells</td>\n",
       "      <td>jennifer.wells@yahoo.com</td>\n",
       "      <td>PARAGUAY</td>\n",
       "      <td>11/11/2024</td>\n",
       "      <td>1</td>\n",
       "    </tr>\n",
       "    <tr>\n",
       "      <th>4</th>\n",
       "      <td>C1004</td>\n",
       "      <td>Erin Garcia</td>\n",
       "      <td>erin.garcia@yahoo.com</td>\n",
       "      <td>Nicaragua</td>\n",
       "      <td>2/2/2024</td>\n",
       "      <td>1</td>\n",
       "    </tr>\n",
       "  </tbody>\n",
       "</table>\n",
       "</div>"
      ],
      "text/plain": [
       "  customer_id      customer_name                        email      country  \\\n",
       "0       C1000  Alexandra Carlson  alexandra.carlson@gmail.com         Chad   \n",
       "1       C1001        Donna Evans        donna.evans@gmail.com  Afghanistan   \n",
       "2       C1002      Kimberly Levy    kimberly.levy@outlook.com       monaco   \n",
       "3       C1003     Jennifer Wells     jennifer.wells@yahoo.com     PARAGUAY   \n",
       "4       C1004        Erin Garcia        erin.garcia@yahoo.com    Nicaragua   \n",
       "\n",
       "  registration_date  has_email  \n",
       "0         11/3/2021          1  \n",
       "1         8/26/2020          1  \n",
       "2         6/27/2014          1  \n",
       "3        11/11/2024          1  \n",
       "4          2/2/2024          1  "
      ]
     },
     "execution_count": 19,
     "metadata": {},
     "output_type": "execute_result"
    }
   ],
   "source": [
    "customers_clean.head()"
   ]
  },
  {
   "cell_type": "code",
   "execution_count": 21,
   "id": "efb0c61d-9574-48e2-acf7-b8f557b6b4bd",
   "metadata": {},
   "outputs": [
    {
     "data": {
      "text/html": [
       "<div>\n",
       "<style scoped>\n",
       "    .dataframe tbody tr th:only-of-type {\n",
       "        vertical-align: middle;\n",
       "    }\n",
       "\n",
       "    .dataframe tbody tr th {\n",
       "        vertical-align: top;\n",
       "    }\n",
       "\n",
       "    .dataframe thead th {\n",
       "        text-align: right;\n",
       "    }\n",
       "</style>\n",
       "<table border=\"1\" class=\"dataframe\">\n",
       "  <thead>\n",
       "    <tr style=\"text-align: right;\">\n",
       "      <th></th>\n",
       "      <th>customer_id</th>\n",
       "      <th>customer_name</th>\n",
       "      <th>email</th>\n",
       "      <th>country</th>\n",
       "      <th>registration_date</th>\n",
       "      <th>has_email</th>\n",
       "    </tr>\n",
       "  </thead>\n",
       "  <tbody>\n",
       "    <tr>\n",
       "      <th>536</th>\n",
       "      <td>C1536</td>\n",
       "      <td>Denise Brown</td>\n",
       "      <td>denise.brown@yahoo.com</td>\n",
       "      <td>Kuwait</td>\n",
       "      <td>1/23/2020</td>\n",
       "      <td>1</td>\n",
       "    </tr>\n",
       "    <tr>\n",
       "      <th>989</th>\n",
       "      <td>C1989</td>\n",
       "      <td>Sandra Davis</td>\n",
       "      <td>sandra.davis@yahoo.com</td>\n",
       "      <td>Hong Kong</td>\n",
       "      <td>6/4/2020</td>\n",
       "      <td>1</td>\n",
       "    </tr>\n",
       "    <tr>\n",
       "      <th>632</th>\n",
       "      <td>C1632</td>\n",
       "      <td>Mary Russell</td>\n",
       "      <td>mary.russell@outlook.com</td>\n",
       "      <td>Montserrat</td>\n",
       "      <td>1/9/2019</td>\n",
       "      <td>1</td>\n",
       "    </tr>\n",
       "    <tr>\n",
       "      <th>173</th>\n",
       "      <td>C1173</td>\n",
       "      <td>Julian Rose</td>\n",
       "      <td>julian.rose@icloud.com</td>\n",
       "      <td>Turkey</td>\n",
       "      <td>10/5/2024</td>\n",
       "      <td>1</td>\n",
       "    </tr>\n",
       "    <tr>\n",
       "      <th>934</th>\n",
       "      <td>C1934</td>\n",
       "      <td>Douglas Holland</td>\n",
       "      <td>douglas.holland@hotmail.com</td>\n",
       "      <td>Falkland Islands (Malvinas)</td>\n",
       "      <td>7/19/2017</td>\n",
       "      <td>1</td>\n",
       "    </tr>\n",
       "    <tr>\n",
       "      <th>613</th>\n",
       "      <td>C1613</td>\n",
       "      <td>Debra Brady</td>\n",
       "      <td>debra.brady@icloud.com</td>\n",
       "      <td>Guyana</td>\n",
       "      <td>8/8/2020</td>\n",
       "      <td>1</td>\n",
       "    </tr>\n",
       "    <tr>\n",
       "      <th>769</th>\n",
       "      <td>C1769</td>\n",
       "      <td>John Wood</td>\n",
       "      <td>john.wood@yahoo.com</td>\n",
       "      <td>Bahamas</td>\n",
       "      <td>4/14/2019</td>\n",
       "      <td>1</td>\n",
       "    </tr>\n",
       "    <tr>\n",
       "      <th>875</th>\n",
       "      <td>C1875</td>\n",
       "      <td>Natalie Davis</td>\n",
       "      <td>natalie.davis@outlook.com</td>\n",
       "      <td>Armenia</td>\n",
       "      <td>11/21/2017</td>\n",
       "      <td>1</td>\n",
       "    </tr>\n",
       "    <tr>\n",
       "      <th>407</th>\n",
       "      <td>C1407</td>\n",
       "      <td>Todd Ortiz</td>\n",
       "      <td>NaN</td>\n",
       "      <td>Jordan</td>\n",
       "      <td>7/8/2021</td>\n",
       "      <td>0</td>\n",
       "    </tr>\n",
       "    <tr>\n",
       "      <th>917</th>\n",
       "      <td>C1917</td>\n",
       "      <td>David Anderson</td>\n",
       "      <td>david.anderson@hotmail.com</td>\n",
       "      <td>japan</td>\n",
       "      <td>9/8/2023</td>\n",
       "      <td>1</td>\n",
       "    </tr>\n",
       "  </tbody>\n",
       "</table>\n",
       "</div>"
      ],
      "text/plain": [
       "    customer_id    customer_name                        email  \\\n",
       "536       C1536     Denise Brown       denise.brown@yahoo.com   \n",
       "989       C1989     Sandra Davis       sandra.davis@yahoo.com   \n",
       "632       C1632     Mary Russell     mary.russell@outlook.com   \n",
       "173       C1173      Julian Rose       julian.rose@icloud.com   \n",
       "934       C1934  Douglas Holland  douglas.holland@hotmail.com   \n",
       "613       C1613    Debra Brady         debra.brady@icloud.com   \n",
       "769       C1769        John Wood          john.wood@yahoo.com   \n",
       "875       C1875    Natalie Davis    natalie.davis@outlook.com   \n",
       "407       C1407       Todd Ortiz                          NaN   \n",
       "917       C1917   David Anderson   david.anderson@hotmail.com   \n",
       "\n",
       "                         country registration_date  has_email  \n",
       "536                       Kuwait         1/23/2020          1  \n",
       "989                    Hong Kong          6/4/2020          1  \n",
       "632                   Montserrat          1/9/2019          1  \n",
       "173                       Turkey         10/5/2024          1  \n",
       "934  Falkland Islands (Malvinas)         7/19/2017          1  \n",
       "613                       Guyana          8/8/2020          1  \n",
       "769                      Bahamas         4/14/2019          1  \n",
       "875                      Armenia        11/21/2017          1  \n",
       "407                       Jordan          7/8/2021          0  \n",
       "917                        japan          9/8/2023          1  "
      ]
     },
     "execution_count": 21,
     "metadata": {},
     "output_type": "execute_result"
    }
   ],
   "source": [
    "customers_clean.sample(10)"
   ]
  },
  {
   "cell_type": "markdown",
   "id": "f8831547-ef93-4998-90d0-99db83f1fc7d",
   "metadata": {},
   "source": [
    "# Clean the Deliveries Data"
   ]
  },
  {
   "cell_type": "code",
   "execution_count": 11,
   "id": "f6bcf20f-7772-44a8-ab81-502b45988216",
   "metadata": {},
   "outputs": [
    {
     "data": {
      "text/html": [
       "<div>\n",
       "<style scoped>\n",
       "    .dataframe tbody tr th:only-of-type {\n",
       "        vertical-align: middle;\n",
       "    }\n",
       "\n",
       "    .dataframe tbody tr th {\n",
       "        vertical-align: top;\n",
       "    }\n",
       "\n",
       "    .dataframe thead th {\n",
       "        text-align: right;\n",
       "    }\n",
       "</style>\n",
       "<table border=\"1\" class=\"dataframe\">\n",
       "  <thead>\n",
       "    <tr style=\"text-align: right;\">\n",
       "      <th></th>\n",
       "      <th>order_id</th>\n",
       "      <th>ship_date</th>\n",
       "      <th>delivery_date</th>\n",
       "      <th>delivery_status</th>\n",
       "      <th>courier</th>\n",
       "    </tr>\n",
       "  </thead>\n",
       "  <tbody>\n",
       "    <tr>\n",
       "      <th>0</th>\n",
       "      <td>O10000</td>\n",
       "      <td>2025-01-04</td>\n",
       "      <td>2025-01-07</td>\n",
       "      <td>On Time</td>\n",
       "      <td>Amazon Logistics</td>\n",
       "    </tr>\n",
       "    <tr>\n",
       "      <th>1</th>\n",
       "      <td>O10001</td>\n",
       "      <td>2025-01-03</td>\n",
       "      <td>2025-01-05</td>\n",
       "      <td>Late</td>\n",
       "      <td>Amazon Logistics</td>\n",
       "    </tr>\n",
       "    <tr>\n",
       "      <th>2</th>\n",
       "      <td>O10003</td>\n",
       "      <td>2025-01-02</td>\n",
       "      <td>2025-01-04</td>\n",
       "      <td>Late</td>\n",
       "      <td>FedEx</td>\n",
       "    </tr>\n",
       "    <tr>\n",
       "      <th>3</th>\n",
       "      <td>O10004</td>\n",
       "      <td>2025-01-02</td>\n",
       "      <td>2025-01-06</td>\n",
       "      <td>On Time</td>\n",
       "      <td>UPS</td>\n",
       "    </tr>\n",
       "    <tr>\n",
       "      <th>4</th>\n",
       "      <td>O10005</td>\n",
       "      <td>2025-01-04</td>\n",
       "      <td>NaN</td>\n",
       "      <td>Late</td>\n",
       "      <td>FedEx</td>\n",
       "    </tr>\n",
       "    <tr>\n",
       "      <th>5</th>\n",
       "      <td>O10009</td>\n",
       "      <td>2025-01-03</td>\n",
       "      <td>2025-01-05</td>\n",
       "      <td>On Time</td>\n",
       "      <td>DHL</td>\n",
       "    </tr>\n",
       "    <tr>\n",
       "      <th>6</th>\n",
       "      <td>O10010</td>\n",
       "      <td>2025-01-04</td>\n",
       "      <td>2025-01-09</td>\n",
       "      <td>On Time</td>\n",
       "      <td>UPS</td>\n",
       "    </tr>\n",
       "    <tr>\n",
       "      <th>7</th>\n",
       "      <td>O10013</td>\n",
       "      <td>2025-01-02</td>\n",
       "      <td>2025-01-04</td>\n",
       "      <td>Late</td>\n",
       "      <td>DHL</td>\n",
       "    </tr>\n",
       "    <tr>\n",
       "      <th>8</th>\n",
       "      <td>O10014</td>\n",
       "      <td>2025-01-02</td>\n",
       "      <td>2025-01-05</td>\n",
       "      <td>On Time</td>\n",
       "      <td>DHL</td>\n",
       "    </tr>\n",
       "    <tr>\n",
       "      <th>9</th>\n",
       "      <td>O10019</td>\n",
       "      <td>2025-01-02</td>\n",
       "      <td>2025-01-04</td>\n",
       "      <td>On Time</td>\n",
       "      <td>DHL</td>\n",
       "    </tr>\n",
       "  </tbody>\n",
       "</table>\n",
       "</div>"
      ],
      "text/plain": [
       "  order_id   ship_date delivery_date delivery_status           courier\n",
       "0   O10000  2025-01-04    2025-01-07         On Time  Amazon Logistics\n",
       "1   O10001  2025-01-03    2025-01-05            Late  Amazon Logistics\n",
       "2   O10003  2025-01-02    2025-01-04            Late             FedEx\n",
       "3   O10004  2025-01-02    2025-01-06         On Time               UPS\n",
       "4   O10005  2025-01-04           NaN            Late             FedEx\n",
       "5   O10009  2025-01-03    2025-01-05         On Time               DHL\n",
       "6   O10010  2025-01-04    2025-01-09         On Time               UPS\n",
       "7   O10013  2025-01-02    2025-01-04            Late               DHL\n",
       "8   O10014  2025-01-02    2025-01-05         On Time               DHL\n",
       "9   O10019  2025-01-02    2025-01-04         On Time               DHL"
      ]
     },
     "execution_count": 11,
     "metadata": {},
     "output_type": "execute_result"
    }
   ],
   "source": [
    "deliveries.head(10)"
   ]
  },
  {
   "cell_type": "code",
   "execution_count": 12,
   "id": "38a6e124-a1e2-4333-b3b5-2e19390b8aad",
   "metadata": {},
   "outputs": [
    {
     "name": "stdout",
     "output_type": "stream",
     "text": [
      "<class 'pandas.core.frame.DataFrame'>\n",
      "RangeIndex: 7254 entries, 0 to 7253\n",
      "Data columns (total 5 columns):\n",
      " #   Column           Non-Null Count  Dtype \n",
      "---  ------           --------------  ----- \n",
      " 0   order_id         7254 non-null   object\n",
      " 1   ship_date        7254 non-null   object\n",
      " 2   delivery_date    6529 non-null   object\n",
      " 3   delivery_status  7254 non-null   object\n",
      " 4   courier          7254 non-null   object\n",
      "dtypes: object(5)\n",
      "memory usage: 283.5+ KB\n"
     ]
    }
   ],
   "source": [
    "deliveries.info()"
   ]
  },
  {
   "cell_type": "code",
   "execution_count": 13,
   "id": "afbcd5a7-63e6-4936-b82d-2fdb1d9d2d72",
   "metadata": {},
   "outputs": [
    {
     "data": {
      "text/plain": [
       "order_id             0\n",
       "ship_date            0\n",
       "delivery_date      725\n",
       "delivery_status      0\n",
       "courier              0\n",
       "dtype: int64"
      ]
     },
     "execution_count": 13,
     "metadata": {},
     "output_type": "execute_result"
    }
   ],
   "source": [
    "deliveries.isnull().sum()"
   ]
  },
  {
   "cell_type": "markdown",
   "id": "3ee86a6e-2c4f-4586-91e7-8ebe92d45092",
   "metadata": {},
   "source": [
    "###### Found null value in delivery_date"
   ]
  },
  {
   "cell_type": "code",
   "execution_count": 26,
   "id": "e3c18cc7-7e19-462b-ab5f-3474bd0727e5",
   "metadata": {},
   "outputs": [],
   "source": [
    "deliveries_clean = deliveries.copy() # make a copy of the orginal dirty data\n",
    "\n",
    "deliveries_clean[\"delivered\"] = deliveries_clean[\"delivery_date\"].notnull().astype(int) #add a delivered flag"
   ]
  },
  {
   "cell_type": "code",
   "execution_count": 27,
   "id": "7cb9a44d-d995-4c4b-96f7-50e1d1eb2a76",
   "metadata": {},
   "outputs": [
    {
     "data": {
      "text/plain": [
       "order_id             0\n",
       "ship_date            0\n",
       "delivery_date      725\n",
       "delivery_status      0\n",
       "courier              0\n",
       "delivered            0\n",
       "dtype: int64"
      ]
     },
     "execution_count": 27,
     "metadata": {},
     "output_type": "execute_result"
    }
   ],
   "source": [
    "deliveries_clean.isnull().sum()"
   ]
  },
  {
   "cell_type": "code",
   "execution_count": 30,
   "id": "07799784-78bd-4100-b854-e4477ebc77a9",
   "metadata": {},
   "outputs": [
    {
     "data": {
      "text/html": [
       "<div>\n",
       "<style scoped>\n",
       "    .dataframe tbody tr th:only-of-type {\n",
       "        vertical-align: middle;\n",
       "    }\n",
       "\n",
       "    .dataframe tbody tr th {\n",
       "        vertical-align: top;\n",
       "    }\n",
       "\n",
       "    .dataframe thead th {\n",
       "        text-align: right;\n",
       "    }\n",
       "</style>\n",
       "<table border=\"1\" class=\"dataframe\">\n",
       "  <thead>\n",
       "    <tr style=\"text-align: right;\">\n",
       "      <th></th>\n",
       "      <th>order_id</th>\n",
       "      <th>ship_date</th>\n",
       "      <th>delivery_date</th>\n",
       "      <th>delivery_status</th>\n",
       "      <th>courier</th>\n",
       "      <th>delivered</th>\n",
       "    </tr>\n",
       "  </thead>\n",
       "  <tbody>\n",
       "    <tr>\n",
       "      <th>1758</th>\n",
       "      <td>O13539</td>\n",
       "      <td>2025-02-14</td>\n",
       "      <td>2025-02-16</td>\n",
       "      <td>On Time</td>\n",
       "      <td>Amazon Logistics</td>\n",
       "      <td>1</td>\n",
       "    </tr>\n",
       "    <tr>\n",
       "      <th>2936</th>\n",
       "      <td>O15981</td>\n",
       "      <td>2025-03-15</td>\n",
       "      <td>2025-03-19</td>\n",
       "      <td>Late</td>\n",
       "      <td>FedEx</td>\n",
       "      <td>1</td>\n",
       "    </tr>\n",
       "    <tr>\n",
       "      <th>3804</th>\n",
       "      <td>O17674</td>\n",
       "      <td>2025-04-06</td>\n",
       "      <td>2025-04-10</td>\n",
       "      <td>Late</td>\n",
       "      <td>UPS</td>\n",
       "      <td>1</td>\n",
       "    </tr>\n",
       "    <tr>\n",
       "      <th>4117</th>\n",
       "      <td>O18312</td>\n",
       "      <td>2025-04-15</td>\n",
       "      <td>2025-04-19</td>\n",
       "      <td>Late</td>\n",
       "      <td>DHL</td>\n",
       "      <td>1</td>\n",
       "    </tr>\n",
       "    <tr>\n",
       "      <th>6609</th>\n",
       "      <td>O23359</td>\n",
       "      <td>2025-06-16</td>\n",
       "      <td>NaN</td>\n",
       "      <td>Late</td>\n",
       "      <td>Amazon Logistics</td>\n",
       "      <td>0</td>\n",
       "    </tr>\n",
       "    <tr>\n",
       "      <th>173</th>\n",
       "      <td>O10352</td>\n",
       "      <td>2025-01-05</td>\n",
       "      <td>2025-01-07</td>\n",
       "      <td>On Time</td>\n",
       "      <td>DHL</td>\n",
       "      <td>1</td>\n",
       "    </tr>\n",
       "    <tr>\n",
       "      <th>4704</th>\n",
       "      <td>O19468</td>\n",
       "      <td>2025-04-29</td>\n",
       "      <td>2025-05-01</td>\n",
       "      <td>Late</td>\n",
       "      <td>FedEx</td>\n",
       "      <td>1</td>\n",
       "    </tr>\n",
       "    <tr>\n",
       "      <th>667</th>\n",
       "      <td>O11346</td>\n",
       "      <td>2025-01-19</td>\n",
       "      <td>2025-01-21</td>\n",
       "      <td>Late</td>\n",
       "      <td>DHL</td>\n",
       "      <td>1</td>\n",
       "    </tr>\n",
       "    <tr>\n",
       "      <th>6353</th>\n",
       "      <td>O22834</td>\n",
       "      <td>2025-06-10</td>\n",
       "      <td>2025-06-15</td>\n",
       "      <td>Late</td>\n",
       "      <td>UPS</td>\n",
       "      <td>1</td>\n",
       "    </tr>\n",
       "    <tr>\n",
       "      <th>5935</th>\n",
       "      <td>O21969</td>\n",
       "      <td>2025-05-30</td>\n",
       "      <td>2025-06-02</td>\n",
       "      <td>Late</td>\n",
       "      <td>DHL</td>\n",
       "      <td>1</td>\n",
       "    </tr>\n",
       "  </tbody>\n",
       "</table>\n",
       "</div>"
      ],
      "text/plain": [
       "     order_id   ship_date delivery_date delivery_status           courier  \\\n",
       "1758   O13539  2025-02-14    2025-02-16         On Time  Amazon Logistics   \n",
       "2936   O15981  2025-03-15    2025-03-19            Late             FedEx   \n",
       "3804   O17674  2025-04-06    2025-04-10            Late               UPS   \n",
       "4117   O18312  2025-04-15    2025-04-19            Late               DHL   \n",
       "6609   O23359  2025-06-16           NaN            Late  Amazon Logistics   \n",
       "173    O10352  2025-01-05    2025-01-07         On Time               DHL   \n",
       "4704   O19468  2025-04-29    2025-05-01            Late             FedEx   \n",
       "667    O11346  2025-01-19    2025-01-21            Late               DHL   \n",
       "6353   O22834  2025-06-10    2025-06-15            Late               UPS   \n",
       "5935   O21969  2025-05-30    2025-06-02            Late               DHL   \n",
       "\n",
       "      delivered  \n",
       "1758          1  \n",
       "2936          1  \n",
       "3804          1  \n",
       "4117          1  \n",
       "6609          0  \n",
       "173           1  \n",
       "4704          1  \n",
       "667           1  \n",
       "6353          1  \n",
       "5935          1  "
      ]
     },
     "execution_count": 30,
     "metadata": {},
     "output_type": "execute_result"
    }
   ],
   "source": [
    "deliveries_clean.sample(10)"
   ]
  },
  {
   "cell_type": "markdown",
   "id": "f288748d-9a67-4a02-95a3-020217a65031",
   "metadata": {},
   "source": [
    "# Clean Order_items Data"
   ]
  },
  {
   "cell_type": "code",
   "execution_count": 40,
   "id": "45b7b727-4193-46df-8ff9-ef2f67159b7f",
   "metadata": {},
   "outputs": [
    {
     "name": "stdout",
     "output_type": "stream",
     "text": [
      "<class 'pandas.core.frame.DataFrame'>\n",
      "RangeIndex: 44004 entries, 0 to 44003\n",
      "Data columns (total 6 columns):\n",
      " #   Column       Non-Null Count  Dtype  \n",
      "---  ------       --------------  -----  \n",
      " 0   order_id     44004 non-null  object \n",
      " 1   product_id   44004 non-null  object \n",
      " 2   quantity     44004 non-null  int64  \n",
      " 3   unit_price   44004 non-null  float64\n",
      " 4   total_price  44004 non-null  float64\n",
      " 5   discount     42244 non-null  float64\n",
      "dtypes: float64(3), int64(1), object(2)\n",
      "memory usage: 2.0+ MB\n"
     ]
    }
   ],
   "source": [
    "order_items.info()"
   ]
  },
  {
   "cell_type": "code",
   "execution_count": 31,
   "id": "f9b2fe69-31c1-40cd-9589-9ada2617d0b7",
   "metadata": {},
   "outputs": [
    {
     "data": {
      "text/plain": [
       "order_id          0\n",
       "product_id        0\n",
       "quantity          0\n",
       "unit_price        0\n",
       "total_price       0\n",
       "discount       1760\n",
       "dtype: int64"
      ]
     },
     "execution_count": 31,
     "metadata": {},
     "output_type": "execute_result"
    }
   ],
   "source": [
    "order_items.isnull().sum()"
   ]
  },
  {
   "cell_type": "markdown",
   "id": "e510e35e-9c3f-42ab-86fb-0c6bbb72c4b5",
   "metadata": {},
   "source": [
    "##### found null value at discount"
   ]
  },
  {
   "cell_type": "code",
   "execution_count": 32,
   "id": "20b867b1-8e1f-4d91-bf4d-0317bb3e8028",
   "metadata": {},
   "outputs": [],
   "source": [
    "order_items_clean = order_items.copy()"
   ]
  },
  {
   "cell_type": "code",
   "execution_count": 33,
   "id": "bd5304b6-76fa-4afd-aa50-c928fb25723b",
   "metadata": {},
   "outputs": [],
   "source": [
    "order_items_clean[\"discount\"] = order_items_clean[\"discount\"].fillna(0.0)"
   ]
  },
  {
   "cell_type": "code",
   "execution_count": 34,
   "id": "99094496-bdc7-4bf9-86da-bc22632c1f2e",
   "metadata": {},
   "outputs": [
    {
     "data": {
      "text/plain": [
       "order_id       0\n",
       "product_id     0\n",
       "quantity       0\n",
       "unit_price     0\n",
       "total_price    0\n",
       "discount       0\n",
       "dtype: int64"
      ]
     },
     "execution_count": 34,
     "metadata": {},
     "output_type": "execute_result"
    }
   ],
   "source": [
    "order_items_clean.isnull().sum()"
   ]
  },
  {
   "cell_type": "code",
   "execution_count": 35,
   "id": "9b08812b-442a-49e5-8c08-81f6c7ed3927",
   "metadata": {},
   "outputs": [
    {
     "data": {
      "text/html": [
       "<div>\n",
       "<style scoped>\n",
       "    .dataframe tbody tr th:only-of-type {\n",
       "        vertical-align: middle;\n",
       "    }\n",
       "\n",
       "    .dataframe tbody tr th {\n",
       "        vertical-align: top;\n",
       "    }\n",
       "\n",
       "    .dataframe thead th {\n",
       "        text-align: right;\n",
       "    }\n",
       "</style>\n",
       "<table border=\"1\" class=\"dataframe\">\n",
       "  <thead>\n",
       "    <tr style=\"text-align: right;\">\n",
       "      <th></th>\n",
       "      <th>order_id</th>\n",
       "      <th>product_id</th>\n",
       "      <th>quantity</th>\n",
       "      <th>unit_price</th>\n",
       "      <th>total_price</th>\n",
       "      <th>discount</th>\n",
       "    </tr>\n",
       "  </thead>\n",
       "  <tbody>\n",
       "    <tr>\n",
       "      <th>40332</th>\n",
       "      <td>O14159</td>\n",
       "      <td>P1031</td>\n",
       "      <td>5</td>\n",
       "      <td>113.46</td>\n",
       "      <td>425.48</td>\n",
       "      <td>0.25</td>\n",
       "    </tr>\n",
       "    <tr>\n",
       "      <th>40854</th>\n",
       "      <td>O16698</td>\n",
       "      <td>P1262</td>\n",
       "      <td>5</td>\n",
       "      <td>145.92</td>\n",
       "      <td>642.05</td>\n",
       "      <td>0.12</td>\n",
       "    </tr>\n",
       "    <tr>\n",
       "      <th>4003</th>\n",
       "      <td>O12673</td>\n",
       "      <td>P1201</td>\n",
       "      <td>2</td>\n",
       "      <td>249.67</td>\n",
       "      <td>389.49</td>\n",
       "      <td>0.22</td>\n",
       "    </tr>\n",
       "    <tr>\n",
       "      <th>27055</th>\n",
       "      <td>O17487</td>\n",
       "      <td>P1014</td>\n",
       "      <td>1</td>\n",
       "      <td>23.47</td>\n",
       "      <td>20.18</td>\n",
       "      <td>0.14</td>\n",
       "    </tr>\n",
       "    <tr>\n",
       "      <th>769</th>\n",
       "      <td>O12672</td>\n",
       "      <td>P1150</td>\n",
       "      <td>3</td>\n",
       "      <td>164.09</td>\n",
       "      <td>403.66</td>\n",
       "      <td>0.18</td>\n",
       "    </tr>\n",
       "    <tr>\n",
       "      <th>19188</th>\n",
       "      <td>O20927</td>\n",
       "      <td>P1191</td>\n",
       "      <td>5</td>\n",
       "      <td>264.47</td>\n",
       "      <td>938.87</td>\n",
       "      <td>0.29</td>\n",
       "    </tr>\n",
       "    <tr>\n",
       "      <th>11414</th>\n",
       "      <td>O13161</td>\n",
       "      <td>P1055</td>\n",
       "      <td>5</td>\n",
       "      <td>56.75</td>\n",
       "      <td>258.21</td>\n",
       "      <td>0.09</td>\n",
       "    </tr>\n",
       "    <tr>\n",
       "      <th>3297</th>\n",
       "      <td>O14921</td>\n",
       "      <td>P1246</td>\n",
       "      <td>3</td>\n",
       "      <td>64.56</td>\n",
       "      <td>162.69</td>\n",
       "      <td>0.16</td>\n",
       "    </tr>\n",
       "    <tr>\n",
       "      <th>42358</th>\n",
       "      <td>O13676</td>\n",
       "      <td>P1232</td>\n",
       "      <td>3</td>\n",
       "      <td>118.71</td>\n",
       "      <td>349.01</td>\n",
       "      <td>0.02</td>\n",
       "    </tr>\n",
       "    <tr>\n",
       "      <th>17315</th>\n",
       "      <td>O14672</td>\n",
       "      <td>P1084</td>\n",
       "      <td>1</td>\n",
       "      <td>181.36</td>\n",
       "      <td>157.78</td>\n",
       "      <td>0.13</td>\n",
       "    </tr>\n",
       "  </tbody>\n",
       "</table>\n",
       "</div>"
      ],
      "text/plain": [
       "      order_id product_id  quantity  unit_price  total_price  discount\n",
       "40332   O14159      P1031         5      113.46       425.48      0.25\n",
       "40854   O16698      P1262         5      145.92       642.05      0.12\n",
       "4003    O12673      P1201         2      249.67       389.49      0.22\n",
       "27055   O17487      P1014         1       23.47        20.18      0.14\n",
       "769     O12672      P1150         3      164.09       403.66      0.18\n",
       "19188   O20927      P1191         5      264.47       938.87      0.29\n",
       "11414   O13161      P1055         5       56.75       258.21      0.09\n",
       "3297    O14921      P1246         3       64.56       162.69      0.16\n",
       "42358   O13676      P1232         3      118.71       349.01      0.02\n",
       "17315   O14672      P1084         1      181.36       157.78      0.13"
      ]
     },
     "execution_count": 35,
     "metadata": {},
     "output_type": "execute_result"
    }
   ],
   "source": [
    "order_items_clean.sample(10)"
   ]
  },
  {
   "cell_type": "markdown",
   "id": "967be742-25ab-4fb3-a71e-d5bea0d5d01f",
   "metadata": {},
   "source": [
    "# Clean Orders Data"
   ]
  },
  {
   "cell_type": "code",
   "execution_count": 39,
   "id": "560529fa-bb45-4fc0-8cb6-b1154980cfec",
   "metadata": {},
   "outputs": [
    {
     "name": "stdout",
     "output_type": "stream",
     "text": [
      "<class 'pandas.core.frame.DataFrame'>\n",
      "RangeIndex: 14668 entries, 0 to 14667\n",
      "Data columns (total 4 columns):\n",
      " #   Column        Non-Null Count  Dtype \n",
      "---  ------        --------------  ----- \n",
      " 0   order_id      14668 non-null  object\n",
      " 1   customer_id   14668 non-null  object\n",
      " 2   order_date    14668 non-null  object\n",
      " 3   order_status  14228 non-null  object\n",
      "dtypes: object(4)\n",
      "memory usage: 458.5+ KB\n"
     ]
    }
   ],
   "source": [
    "orders.info()"
   ]
  },
  {
   "cell_type": "code",
   "execution_count": 36,
   "id": "b7862fe6-d980-4217-b2ba-2d175eea3f9f",
   "metadata": {},
   "outputs": [
    {
     "data": {
      "text/plain": [
       "order_id          0\n",
       "customer_id       0\n",
       "order_date        0\n",
       "order_status    440\n",
       "dtype: int64"
      ]
     },
     "execution_count": 36,
     "metadata": {},
     "output_type": "execute_result"
    }
   ],
   "source": [
    "orders.isnull().sum()"
   ]
  },
  {
   "cell_type": "markdown",
   "id": "8da3a2bb-062b-4ea9-8868-b982d8c2e7c8",
   "metadata": {},
   "source": [
    "##### Found null value in order_status"
   ]
  },
  {
   "cell_type": "code",
   "execution_count": 60,
   "id": "724b18a8-8200-471c-879c-c3e9bc45530c",
   "metadata": {},
   "outputs": [],
   "source": [
    "orders_clean = orders.copy()"
   ]
  },
  {
   "cell_type": "code",
   "execution_count": 61,
   "id": "8cb8deb6-f0db-46eb-9234-0d753ff21fab",
   "metadata": {},
   "outputs": [],
   "source": [
    "orders_clean[\"order_status\"] = orders_clean[\"order_status\"].fillna(\"Unknow\")"
   ]
  },
  {
   "cell_type": "code",
   "execution_count": 62,
   "id": "b62ec633-b0d5-408b-b888-bfba1aad2fa8",
   "metadata": {},
   "outputs": [
    {
     "data": {
      "text/plain": [
       "order_id        0\n",
       "customer_id     0\n",
       "order_date      0\n",
       "order_status    0\n",
       "dtype: int64"
      ]
     },
     "execution_count": 62,
     "metadata": {},
     "output_type": "execute_result"
    }
   ],
   "source": [
    "orders_clean.isnull().sum()"
   ]
  },
  {
   "cell_type": "code",
   "execution_count": 69,
   "id": "b109962a-fd06-49db-bcd1-b70972f48469",
   "metadata": {},
   "outputs": [
    {
     "data": {
      "text/html": [
       "<div>\n",
       "<style scoped>\n",
       "    .dataframe tbody tr th:only-of-type {\n",
       "        vertical-align: middle;\n",
       "    }\n",
       "\n",
       "    .dataframe tbody tr th {\n",
       "        vertical-align: top;\n",
       "    }\n",
       "\n",
       "    .dataframe thead th {\n",
       "        text-align: right;\n",
       "    }\n",
       "</style>\n",
       "<table border=\"1\" class=\"dataframe\">\n",
       "  <thead>\n",
       "    <tr style=\"text-align: right;\">\n",
       "      <th></th>\n",
       "      <th>order_id</th>\n",
       "      <th>customer_id</th>\n",
       "      <th>order_date</th>\n",
       "      <th>order_status</th>\n",
       "    </tr>\n",
       "  </thead>\n",
       "  <tbody>\n",
       "    <tr>\n",
       "      <th>8933</th>\n",
       "      <td>O18933</td>\n",
       "      <td>C1133</td>\n",
       "      <td>20-04-2025</td>\n",
       "      <td>Cancelled</td>\n",
       "    </tr>\n",
       "    <tr>\n",
       "      <th>7947</th>\n",
       "      <td>O17947</td>\n",
       "      <td>C1596</td>\n",
       "      <td>07-04-2025</td>\n",
       "      <td>Cancelled</td>\n",
       "    </tr>\n",
       "    <tr>\n",
       "      <th>6122</th>\n",
       "      <td>O16122</td>\n",
       "      <td>C1078</td>\n",
       "      <td>15-03-2025</td>\n",
       "      <td>Placed</td>\n",
       "    </tr>\n",
       "    <tr>\n",
       "      <th>4073</th>\n",
       "      <td>O14073</td>\n",
       "      <td>C1290</td>\n",
       "      <td>19-02-2025</td>\n",
       "      <td>Shipped</td>\n",
       "    </tr>\n",
       "    <tr>\n",
       "      <th>965</th>\n",
       "      <td>O10965</td>\n",
       "      <td>C1508</td>\n",
       "      <td>12-01-2025</td>\n",
       "      <td>Unknow</td>\n",
       "    </tr>\n",
       "    <tr>\n",
       "      <th>4020</th>\n",
       "      <td>O14020</td>\n",
       "      <td>C1347</td>\n",
       "      <td>18-02-2025</td>\n",
       "      <td>Placed</td>\n",
       "    </tr>\n",
       "    <tr>\n",
       "      <th>299</th>\n",
       "      <td>O10299</td>\n",
       "      <td>C1441</td>\n",
       "      <td>03-01-2025</td>\n",
       "      <td>Shipped</td>\n",
       "    </tr>\n",
       "    <tr>\n",
       "      <th>1458</th>\n",
       "      <td>O11458</td>\n",
       "      <td>C1915</td>\n",
       "      <td>18-01-2025</td>\n",
       "      <td>Cancelled</td>\n",
       "    </tr>\n",
       "    <tr>\n",
       "      <th>7359</th>\n",
       "      <td>O17359</td>\n",
       "      <td>C1877</td>\n",
       "      <td>30-03-2025</td>\n",
       "      <td>Shipped</td>\n",
       "    </tr>\n",
       "    <tr>\n",
       "      <th>10849</th>\n",
       "      <td>O20849</td>\n",
       "      <td>C1436</td>\n",
       "      <td>15-05-2025</td>\n",
       "      <td>Placed</td>\n",
       "    </tr>\n",
       "  </tbody>\n",
       "</table>\n",
       "</div>"
      ],
      "text/plain": [
       "      order_id customer_id  order_date order_status\n",
       "8933    O18933       C1133  20-04-2025    Cancelled\n",
       "7947    O17947       C1596  07-04-2025    Cancelled\n",
       "6122    O16122       C1078  15-03-2025       Placed\n",
       "4073    O14073       C1290  19-02-2025      Shipped\n",
       "965     O10965       C1508  12-01-2025       Unknow\n",
       "4020    O14020       C1347  18-02-2025       Placed\n",
       "299     O10299       C1441  03-01-2025      Shipped\n",
       "1458    O11458       C1915  18-01-2025    Cancelled\n",
       "7359    O17359       C1877  30-03-2025      Shipped\n",
       "10849   O20849       C1436  15-05-2025       Placed"
      ]
     },
     "execution_count": 69,
     "metadata": {},
     "output_type": "execute_result"
    }
   ],
   "source": [
    "orders_clean.sample(10)"
   ]
  },
  {
   "cell_type": "markdown",
   "id": "2312c758-1929-49d5-9a68-ff017c7b1153",
   "metadata": {},
   "source": [
    "# Clean the Products Data"
   ]
  },
  {
   "cell_type": "code",
   "execution_count": 70,
   "id": "b21a6ca3-4df1-4a63-b4ea-6737d1dbd1ef",
   "metadata": {},
   "outputs": [
    {
     "name": "stdout",
     "output_type": "stream",
     "text": [
      "<class 'pandas.core.frame.DataFrame'>\n",
      "RangeIndex: 300 entries, 0 to 299\n",
      "Data columns (total 5 columns):\n",
      " #   Column        Non-Null Count  Dtype  \n",
      "---  ------        --------------  -----  \n",
      " 0   product_id    300 non-null    object \n",
      " 1   product_name  300 non-null    object \n",
      " 2   category      300 non-null    object \n",
      " 3   unit_cost     295 non-null    float64\n",
      " 4   unit_price    300 non-null    object \n",
      "dtypes: float64(1), object(4)\n",
      "memory usage: 11.8+ KB\n"
     ]
    }
   ],
   "source": [
    "products.info()"
   ]
  },
  {
   "cell_type": "code",
   "execution_count": 71,
   "id": "3d2a9900-dca6-47eb-be06-2b132282cbc5",
   "metadata": {},
   "outputs": [
    {
     "data": {
      "text/plain": [
       "product_id      0\n",
       "product_name    0\n",
       "category        0\n",
       "unit_cost       5\n",
       "unit_price      0\n",
       "dtype: int64"
      ]
     },
     "execution_count": 71,
     "metadata": {},
     "output_type": "execute_result"
    }
   ],
   "source": [
    "products.isnull().sum()"
   ]
  },
  {
   "cell_type": "code",
   "execution_count": 72,
   "id": "7d1bbd0a-b792-4174-9e8e-29c743b45c67",
   "metadata": {},
   "outputs": [
    {
     "data": {
      "text/html": [
       "<div>\n",
       "<style scoped>\n",
       "    .dataframe tbody tr th:only-of-type {\n",
       "        vertical-align: middle;\n",
       "    }\n",
       "\n",
       "    .dataframe tbody tr th {\n",
       "        vertical-align: top;\n",
       "    }\n",
       "\n",
       "    .dataframe thead th {\n",
       "        text-align: right;\n",
       "    }\n",
       "</style>\n",
       "<table border=\"1\" class=\"dataframe\">\n",
       "  <thead>\n",
       "    <tr style=\"text-align: right;\">\n",
       "      <th></th>\n",
       "      <th>product_id</th>\n",
       "      <th>product_name</th>\n",
       "      <th>category</th>\n",
       "      <th>unit_cost</th>\n",
       "      <th>unit_price</th>\n",
       "    </tr>\n",
       "  </thead>\n",
       "  <tbody>\n",
       "    <tr>\n",
       "      <th>0</th>\n",
       "      <td>P1000</td>\n",
       "      <td>Trouble Lite</td>\n",
       "      <td>Health</td>\n",
       "      <td>40.58</td>\n",
       "      <td>285.71</td>\n",
       "    </tr>\n",
       "    <tr>\n",
       "      <th>1</th>\n",
       "      <td>P1001</td>\n",
       "      <td>Rich Lite</td>\n",
       "      <td>Office Supplies</td>\n",
       "      <td>74.54</td>\n",
       "      <td>183.61</td>\n",
       "    </tr>\n",
       "    <tr>\n",
       "      <th>2</th>\n",
       "      <td>P1002</td>\n",
       "      <td>Without Kit</td>\n",
       "      <td>Sports</td>\n",
       "      <td>19.82</td>\n",
       "      <td>55.24</td>\n",
       "    </tr>\n",
       "    <tr>\n",
       "      <th>3</th>\n",
       "      <td>P1003</td>\n",
       "      <td>International Max</td>\n",
       "      <td>Office Supplies</td>\n",
       "      <td>10.52</td>\n",
       "      <td>261.19</td>\n",
       "    </tr>\n",
       "    <tr>\n",
       "      <th>4</th>\n",
       "      <td>P1004</td>\n",
       "      <td>Race Pro</td>\n",
       "      <td>Fashion</td>\n",
       "      <td>NaN</td>\n",
       "      <td>215.34</td>\n",
       "    </tr>\n",
       "  </tbody>\n",
       "</table>\n",
       "</div>"
      ],
      "text/plain": [
       "  product_id       product_name         category  unit_cost unit_price\n",
       "0      P1000       Trouble Lite           Health      40.58     285.71\n",
       "1      P1001         Rich Lite   Office Supplies      74.54     183.61\n",
       "2      P1002        Without Kit           Sports      19.82      55.24\n",
       "3      P1003  International Max  Office Supplies      10.52     261.19\n",
       "4      P1004           Race Pro          Fashion        NaN     215.34"
      ]
     },
     "execution_count": 72,
     "metadata": {},
     "output_type": "execute_result"
    }
   ],
   "source": [
    "products.head()"
   ]
  },
  {
   "cell_type": "code",
   "execution_count": 73,
   "id": "1b2b20e5-481e-4719-a5e6-671ef9973793",
   "metadata": {},
   "outputs": [],
   "source": [
    "products_clean = products.copy()"
   ]
  },
  {
   "cell_type": "code",
   "execution_count": 75,
   "id": "3a5331b1-956b-42f7-90a3-f53118aaebbc",
   "metadata": {},
   "outputs": [],
   "source": [
    "products_clean[\"unit_cost\"] = products_clean[\"unit_cost\"].fillna(0.0)"
   ]
  },
  {
   "cell_type": "code",
   "execution_count": 76,
   "id": "9e717d88-d183-453c-af42-8195d882da2d",
   "metadata": {},
   "outputs": [
    {
     "data": {
      "text/plain": [
       "product_id      0\n",
       "product_name    0\n",
       "category        0\n",
       "unit_cost       0\n",
       "unit_price      0\n",
       "dtype: int64"
      ]
     },
     "execution_count": 76,
     "metadata": {},
     "output_type": "execute_result"
    }
   ],
   "source": [
    "products_clean.isnull().sum()"
   ]
  },
  {
   "cell_type": "markdown",
   "id": "5cad48aa-1408-4a6a-b7fc-aff174e813ac",
   "metadata": {},
   "source": [
    "# Clean the Stock Data"
   ]
  },
  {
   "cell_type": "code",
   "execution_count": 84,
   "id": "abd6faaf-78c5-48f8-a7ef-a55990505c2c",
   "metadata": {},
   "outputs": [
    {
     "name": "stdout",
     "output_type": "stream",
     "text": [
      "<class 'pandas.core.frame.DataFrame'>\n",
      "RangeIndex: 1000 entries, 0 to 999\n",
      "Data columns (total 4 columns):\n",
      " #   Column              Non-Null Count  Dtype  \n",
      "---  ------              --------------  -----  \n",
      " 0   product_id          1000 non-null   object \n",
      " 1   warehouse_location  1000 non-null   object \n",
      " 2   stock_level         1000 non-null   float64\n",
      " 3   last_updated        1000 non-null   object \n",
      "dtypes: float64(1), object(3)\n",
      "memory usage: 31.4+ KB\n"
     ]
    }
   ],
   "source": [
    "stocks.info()"
   ]
  },
  {
   "cell_type": "code",
   "execution_count": 85,
   "id": "c453639c-3449-4cf9-a9c4-7f1555caf2a8",
   "metadata": {},
   "outputs": [
    {
     "data": {
      "text/plain": [
       "product_id            0\n",
       "warehouse_location    0\n",
       "stock_level           0\n",
       "last_updated          0\n",
       "dtype: int64"
      ]
     },
     "execution_count": 85,
     "metadata": {},
     "output_type": "execute_result"
    }
   ],
   "source": [
    "stocks.isnull().sum()"
   ]
  },
  {
   "cell_type": "code",
   "execution_count": 93,
   "id": "a43dcb44-173f-4190-8c4f-6437802aa51f",
   "metadata": {},
   "outputs": [
    {
     "data": {
      "text/html": [
       "<div>\n",
       "<style scoped>\n",
       "    .dataframe tbody tr th:only-of-type {\n",
       "        vertical-align: middle;\n",
       "    }\n",
       "\n",
       "    .dataframe tbody tr th {\n",
       "        vertical-align: top;\n",
       "    }\n",
       "\n",
       "    .dataframe thead th {\n",
       "        text-align: right;\n",
       "    }\n",
       "</style>\n",
       "<table border=\"1\" class=\"dataframe\">\n",
       "  <thead>\n",
       "    <tr style=\"text-align: right;\">\n",
       "      <th></th>\n",
       "      <th>product_id</th>\n",
       "      <th>warehouse_location</th>\n",
       "      <th>stock_level</th>\n",
       "      <th>last_updated</th>\n",
       "    </tr>\n",
       "  </thead>\n",
       "  <tbody>\n",
       "    <tr>\n",
       "      <th>0</th>\n",
       "      <td>P1076</td>\n",
       "      <td>Tokyo</td>\n",
       "      <td>284.0</td>\n",
       "      <td>2025-03-03</td>\n",
       "    </tr>\n",
       "    <tr>\n",
       "      <th>1</th>\n",
       "      <td>P1062</td>\n",
       "      <td>Berlin</td>\n",
       "      <td>329.0</td>\n",
       "      <td>2025-01-17</td>\n",
       "    </tr>\n",
       "    <tr>\n",
       "      <th>2</th>\n",
       "      <td>P1289</td>\n",
       "      <td>Tokyo</td>\n",
       "      <td>0.0</td>\n",
       "      <td>2025-03-04</td>\n",
       "    </tr>\n",
       "    <tr>\n",
       "      <th>3</th>\n",
       "      <td>P1010</td>\n",
       "      <td>NYC</td>\n",
       "      <td>26.0</td>\n",
       "      <td>2025-02-16</td>\n",
       "    </tr>\n",
       "    <tr>\n",
       "      <th>4</th>\n",
       "      <td>P1227</td>\n",
       "      <td>NYC</td>\n",
       "      <td>136.0</td>\n",
       "      <td>2025-05-26</td>\n",
       "    </tr>\n",
       "  </tbody>\n",
       "</table>\n",
       "</div>"
      ],
      "text/plain": [
       "  product_id warehouse_location  stock_level last_updated\n",
       "0      P1076              Tokyo        284.0   2025-03-03\n",
       "1      P1062             Berlin        329.0   2025-01-17\n",
       "2      P1289              Tokyo          0.0   2025-03-04\n",
       "3      P1010                NYC         26.0   2025-02-16\n",
       "4      P1227                NYC        136.0   2025-05-26"
      ]
     },
     "execution_count": 93,
     "metadata": {},
     "output_type": "execute_result"
    }
   ],
   "source": [
    "stocks.head()"
   ]
  },
  {
   "cell_type": "code",
   "execution_count": 94,
   "id": "7e4a1fd6-7044-433f-99a9-041c339d3db0",
   "metadata": {},
   "outputs": [],
   "source": [
    "stocks_clean = stocks.copy()"
   ]
  },
  {
   "cell_type": "code",
   "execution_count": 95,
   "id": "4f7707a0-6d96-48e4-9c03-d833714d6909",
   "metadata": {},
   "outputs": [],
   "source": [
    "stocks_clean[\"stock_level\"] = stocks_clean[\"stock_level\"].fillna(0.0)"
   ]
  },
  {
   "cell_type": "code",
   "execution_count": 96,
   "id": "a0c89638-372d-408c-847c-cb9aec1dfe88",
   "metadata": {},
   "outputs": [
    {
     "data": {
      "text/plain": [
       "product_id            0\n",
       "warehouse_location    0\n",
       "stock_level           0\n",
       "last_updated          0\n",
       "dtype: int64"
      ]
     },
     "execution_count": 96,
     "metadata": {},
     "output_type": "execute_result"
    }
   ],
   "source": [
    "stocks_clean.isnull().sum()"
   ]
  },
  {
   "cell_type": "code",
   "execution_count": 97,
   "id": "efd9d7b4-fa1a-493e-8e33-e1e321f785eb",
   "metadata": {},
   "outputs": [
    {
     "data": {
      "text/html": [
       "<div>\n",
       "<style scoped>\n",
       "    .dataframe tbody tr th:only-of-type {\n",
       "        vertical-align: middle;\n",
       "    }\n",
       "\n",
       "    .dataframe tbody tr th {\n",
       "        vertical-align: top;\n",
       "    }\n",
       "\n",
       "    .dataframe thead th {\n",
       "        text-align: right;\n",
       "    }\n",
       "</style>\n",
       "<table border=\"1\" class=\"dataframe\">\n",
       "  <thead>\n",
       "    <tr style=\"text-align: right;\">\n",
       "      <th></th>\n",
       "      <th>product_id</th>\n",
       "      <th>warehouse_location</th>\n",
       "      <th>stock_level</th>\n",
       "      <th>last_updated</th>\n",
       "    </tr>\n",
       "  </thead>\n",
       "  <tbody>\n",
       "    <tr>\n",
       "      <th>960</th>\n",
       "      <td>P1158</td>\n",
       "      <td>Berlin</td>\n",
       "      <td>165.0</td>\n",
       "      <td>2025-06-08</td>\n",
       "    </tr>\n",
       "    <tr>\n",
       "      <th>65</th>\n",
       "      <td>P1144</td>\n",
       "      <td>Delhi</td>\n",
       "      <td>438.0</td>\n",
       "      <td>2025-06-05</td>\n",
       "    </tr>\n",
       "    <tr>\n",
       "      <th>69</th>\n",
       "      <td>P1186</td>\n",
       "      <td>Berlin</td>\n",
       "      <td>148.0</td>\n",
       "      <td>2025-04-24</td>\n",
       "    </tr>\n",
       "    <tr>\n",
       "      <th>798</th>\n",
       "      <td>P1034</td>\n",
       "      <td>Tokyo</td>\n",
       "      <td>114.0</td>\n",
       "      <td>2025-05-26</td>\n",
       "    </tr>\n",
       "    <tr>\n",
       "      <th>868</th>\n",
       "      <td>P1018</td>\n",
       "      <td>Berlin</td>\n",
       "      <td>276.0</td>\n",
       "      <td>2025-03-27</td>\n",
       "    </tr>\n",
       "  </tbody>\n",
       "</table>\n",
       "</div>"
      ],
      "text/plain": [
       "    product_id warehouse_location  stock_level last_updated\n",
       "960      P1158             Berlin        165.0   2025-06-08\n",
       "65       P1144              Delhi        438.0   2025-06-05\n",
       "69       P1186             Berlin        148.0   2025-04-24\n",
       "798      P1034              Tokyo        114.0   2025-05-26\n",
       "868      P1018             Berlin        276.0   2025-03-27"
      ]
     },
     "execution_count": 97,
     "metadata": {},
     "output_type": "execute_result"
    }
   ],
   "source": [
    "stocks_clean.sample(5)"
   ]
  },
  {
   "cell_type": "markdown",
   "id": "8d373e67-5d69-4c7b-9611-7b7f2e303c93",
   "metadata": {},
   "source": [
    "# Identify Customer Segments to Target\n",
    "\n",
    "### Which customer segments should we focus on for this campaign?"
   ]
  },
  {
   "cell_type": "markdown",
   "id": "3e8dafaa-e279-460c-92ea-bebd2845cf70",
   "metadata": {},
   "source": [
    "##### Join the Data Set  to get Full Customer Behavior "
   ]
  },
  {
   "cell_type": "code",
   "execution_count": 98,
   "id": "4964e3f2-ea20-4267-8cc4-cc1dd6c70ecc",
   "metadata": {},
   "outputs": [],
   "source": [
    "orders_full = pd.merge(orders_clean, customers_clean, on=\"customer_id\", how=\"inner\")"
   ]
  },
  {
   "cell_type": "code",
   "execution_count": 99,
   "id": "4ecfaa7b-e675-4f6d-a388-780b2326a2bf",
   "metadata": {},
   "outputs": [],
   "source": [
    "orders_full = pd.merge(orders_full, order_items, on=\"order_id\", how= \"inner\")"
   ]
  },
  {
   "cell_type": "code",
   "execution_count": 100,
   "id": "2cfcd5fd-5f39-4014-93e0-20e0394841d6",
   "metadata": {},
   "outputs": [
    {
     "data": {
      "text/html": [
       "<div>\n",
       "<style scoped>\n",
       "    .dataframe tbody tr th:only-of-type {\n",
       "        vertical-align: middle;\n",
       "    }\n",
       "\n",
       "    .dataframe tbody tr th {\n",
       "        vertical-align: top;\n",
       "    }\n",
       "\n",
       "    .dataframe thead th {\n",
       "        text-align: right;\n",
       "    }\n",
       "</style>\n",
       "<table border=\"1\" class=\"dataframe\">\n",
       "  <thead>\n",
       "    <tr style=\"text-align: right;\">\n",
       "      <th></th>\n",
       "      <th>order_id</th>\n",
       "      <th>customer_id</th>\n",
       "      <th>order_date</th>\n",
       "      <th>order_status</th>\n",
       "      <th>customer_name</th>\n",
       "      <th>email</th>\n",
       "      <th>country</th>\n",
       "      <th>registration_date</th>\n",
       "      <th>has_email</th>\n",
       "      <th>product_id</th>\n",
       "      <th>quantity</th>\n",
       "      <th>unit_price</th>\n",
       "      <th>total_price</th>\n",
       "      <th>discount</th>\n",
       "    </tr>\n",
       "  </thead>\n",
       "  <tbody>\n",
       "    <tr>\n",
       "      <th>0</th>\n",
       "      <td>O10000</td>\n",
       "      <td>C1198</td>\n",
       "      <td>01-01-2025</td>\n",
       "      <td>Delivered</td>\n",
       "      <td>Robert Arnold</td>\n",
       "      <td>robert.arnold@yahoo.com</td>\n",
       "      <td>Lesotho</td>\n",
       "      <td>10/6/2020</td>\n",
       "      <td>1</td>\n",
       "      <td>P1204</td>\n",
       "      <td>3</td>\n",
       "      <td>36.47</td>\n",
       "      <td>102.85</td>\n",
       "      <td>0.06</td>\n",
       "    </tr>\n",
       "    <tr>\n",
       "      <th>1</th>\n",
       "      <td>O10000</td>\n",
       "      <td>C1198</td>\n",
       "      <td>01-01-2025</td>\n",
       "      <td>Delivered</td>\n",
       "      <td>Robert Arnold</td>\n",
       "      <td>robert.arnold@yahoo.com</td>\n",
       "      <td>Lesotho</td>\n",
       "      <td>10/6/2020</td>\n",
       "      <td>1</td>\n",
       "      <td>P1248</td>\n",
       "      <td>1</td>\n",
       "      <td>32.54</td>\n",
       "      <td>24.08</td>\n",
       "      <td>0.26</td>\n",
       "    </tr>\n",
       "    <tr>\n",
       "      <th>2</th>\n",
       "      <td>O10000</td>\n",
       "      <td>C1198</td>\n",
       "      <td>01-01-2025</td>\n",
       "      <td>Delivered</td>\n",
       "      <td>Robert Arnold</td>\n",
       "      <td>robert.arnold@yahoo.com</td>\n",
       "      <td>Lesotho</td>\n",
       "      <td>10/6/2020</td>\n",
       "      <td>1</td>\n",
       "      <td>P1015</td>\n",
       "      <td>5</td>\n",
       "      <td>59.45</td>\n",
       "      <td>297.25</td>\n",
       "      <td>0.00</td>\n",
       "    </tr>\n",
       "    <tr>\n",
       "      <th>3</th>\n",
       "      <td>O10001</td>\n",
       "      <td>C1359</td>\n",
       "      <td>01-01-2025</td>\n",
       "      <td>Shipped</td>\n",
       "      <td>Timothy Davis</td>\n",
       "      <td>timothy.davis@icloud.com</td>\n",
       "      <td>Romania</td>\n",
       "      <td>8/13/2013</td>\n",
       "      <td>1</td>\n",
       "      <td>P1125</td>\n",
       "      <td>5</td>\n",
       "      <td>121.68</td>\n",
       "      <td>504.97</td>\n",
       "      <td>0.17</td>\n",
       "    </tr>\n",
       "    <tr>\n",
       "      <th>4</th>\n",
       "      <td>O10001</td>\n",
       "      <td>C1359</td>\n",
       "      <td>01-01-2025</td>\n",
       "      <td>Shipped</td>\n",
       "      <td>Timothy Davis</td>\n",
       "      <td>timothy.davis@icloud.com</td>\n",
       "      <td>Romania</td>\n",
       "      <td>8/13/2013</td>\n",
       "      <td>1</td>\n",
       "      <td>P1030</td>\n",
       "      <td>1</td>\n",
       "      <td>88.69</td>\n",
       "      <td>80.71</td>\n",
       "      <td>0.09</td>\n",
       "    </tr>\n",
       "  </tbody>\n",
       "</table>\n",
       "</div>"
      ],
      "text/plain": [
       "  order_id customer_id  order_date order_status  customer_name  \\\n",
       "0   O10000       C1198  01-01-2025    Delivered  Robert Arnold   \n",
       "1   O10000       C1198  01-01-2025    Delivered  Robert Arnold   \n",
       "2   O10000       C1198  01-01-2025    Delivered  Robert Arnold   \n",
       "3   O10001       C1359  01-01-2025      Shipped  Timothy Davis   \n",
       "4   O10001       C1359  01-01-2025      Shipped  Timothy Davis   \n",
       "\n",
       "                      email  country registration_date  has_email product_id  \\\n",
       "0   robert.arnold@yahoo.com  Lesotho         10/6/2020          1      P1204   \n",
       "1   robert.arnold@yahoo.com  Lesotho         10/6/2020          1      P1248   \n",
       "2   robert.arnold@yahoo.com  Lesotho         10/6/2020          1      P1015   \n",
       "3  timothy.davis@icloud.com  Romania         8/13/2013          1      P1125   \n",
       "4  timothy.davis@icloud.com  Romania         8/13/2013          1      P1030   \n",
       "\n",
       "   quantity  unit_price  total_price  discount  \n",
       "0         3       36.47       102.85      0.06  \n",
       "1         1       32.54        24.08      0.26  \n",
       "2         5       59.45       297.25      0.00  \n",
       "3         5      121.68       504.97      0.17  \n",
       "4         1       88.69        80.71      0.09  "
      ]
     },
     "execution_count": 100,
     "metadata": {},
     "output_type": "execute_result"
    }
   ],
   "source": [
    "orders_full.head()"
   ]
  },
  {
   "cell_type": "markdown",
   "id": "8d9958b0-5dfe-461b-bbc9-852c905f817d",
   "metadata": {},
   "source": [
    "##### Calulate the RFM Metrics for Each Customer\n",
    "###### RFM = Recency, Frequency, Monetary"
   ]
  },
  {
   "cell_type": "code",
   "execution_count": 102,
   "id": "30de00bd-d1b5-4187-b7eb-d7e5ccb1137f",
   "metadata": {},
   "outputs": [],
   "source": [
    "from datetime import datetime\n",
    "\n",
    "#Convert order_date to datetime\n",
    "orders_full[\"order_date\"] = pd.to_datetime(orders_full[\"order_date\"], dayfirst=True)\n",
    "\n",
    "#Define the fixed reference date\n",
    "ref_date = datetime(2025, 7, 31)\n",
    "\n",
    "rfm = orders_full.groupby(\"customer_id\").agg({\n",
    "                          \"order_date\" : lambda x:(ref_date - x.max()).days,\n",
    "                          \"order_id\" : \"count\",\n",
    "                          \"total_price\": \"sum\"\n",
    "}).reset_index()\n",
    "\n",
    "rfm.columns= [\"customer_id\", \"recency\", \"frequency\", \"monetary\"]"
   ]
  },
  {
   "cell_type": "markdown",
   "id": "35af3f36-9c00-4ebd-9be2-d05f9ada9b44",
   "metadata": {},
   "source": [
    "##### Create RFM Segments"
   ]
  },
  {
   "cell_type": "code",
   "execution_count": 103,
   "id": "f3a4de4d-f7f8-4f6f-b943-e1e029f923d7",
   "metadata": {},
   "outputs": [],
   "source": [
    "rfm[\"r_score\"] = pd.qcut(rfm[\"recency\"], 4, labels=[4, 3, 2, 1])\n",
    "rfm[\"f_score\"] = pd.qcut(rfm[\"frequency\"].rank(method=\"first\"), 4, labels=[1, 2, 3, 4])\n",
    "rfm[\"m_score\"] = pd.qcut(rfm[\"monetary\"], 4, labels=[1, 2, 3, 4])\n",
    "\n",
    "rfm[\"rfm_score\"] = rfm[\"r_score\"].astype(str) + rfm[\"f_score\"].astype(str) + rfm[\"m_score\"].astype(str)"
   ]
  },
  {
   "cell_type": "code",
   "execution_count": 104,
   "id": "d0271af8-6b83-4a8f-8925-9559b69c6584",
   "metadata": {},
   "outputs": [
    {
     "data": {
      "text/html": [
       "<div>\n",
       "<style scoped>\n",
       "    .dataframe tbody tr th:only-of-type {\n",
       "        vertical-align: middle;\n",
       "    }\n",
       "\n",
       "    .dataframe tbody tr th {\n",
       "        vertical-align: top;\n",
       "    }\n",
       "\n",
       "    .dataframe thead th {\n",
       "        text-align: right;\n",
       "    }\n",
       "</style>\n",
       "<table border=\"1\" class=\"dataframe\">\n",
       "  <thead>\n",
       "    <tr style=\"text-align: right;\">\n",
       "      <th></th>\n",
       "      <th>customer_id</th>\n",
       "      <th>recency</th>\n",
       "      <th>frequency</th>\n",
       "      <th>monetary</th>\n",
       "      <th>r_score</th>\n",
       "      <th>f_score</th>\n",
       "      <th>m_score</th>\n",
       "      <th>rfm_score</th>\n",
       "    </tr>\n",
       "  </thead>\n",
       "  <tbody>\n",
       "    <tr>\n",
       "      <th>0</th>\n",
       "      <td>C1000</td>\n",
       "      <td>52</td>\n",
       "      <td>52</td>\n",
       "      <td>19370.18</td>\n",
       "      <td>1</td>\n",
       "      <td>3</td>\n",
       "      <td>3</td>\n",
       "      <td>133</td>\n",
       "    </tr>\n",
       "    <tr>\n",
       "      <th>1</th>\n",
       "      <td>C1001</td>\n",
       "      <td>42</td>\n",
       "      <td>45</td>\n",
       "      <td>15973.26</td>\n",
       "      <td>2</td>\n",
       "      <td>3</td>\n",
       "      <td>3</td>\n",
       "      <td>233</td>\n",
       "    </tr>\n",
       "    <tr>\n",
       "      <th>2</th>\n",
       "      <td>C1002</td>\n",
       "      <td>35</td>\n",
       "      <td>70</td>\n",
       "      <td>28596.55</td>\n",
       "      <td>4</td>\n",
       "      <td>4</td>\n",
       "      <td>4</td>\n",
       "      <td>444</td>\n",
       "    </tr>\n",
       "    <tr>\n",
       "      <th>3</th>\n",
       "      <td>C1003</td>\n",
       "      <td>38</td>\n",
       "      <td>69</td>\n",
       "      <td>26206.11</td>\n",
       "      <td>3</td>\n",
       "      <td>4</td>\n",
       "      <td>4</td>\n",
       "      <td>344</td>\n",
       "    </tr>\n",
       "    <tr>\n",
       "      <th>4</th>\n",
       "      <td>C1004</td>\n",
       "      <td>32</td>\n",
       "      <td>37</td>\n",
       "      <td>14422.93</td>\n",
       "      <td>4</td>\n",
       "      <td>2</td>\n",
       "      <td>2</td>\n",
       "      <td>422</td>\n",
       "    </tr>\n",
       "    <tr>\n",
       "      <th>...</th>\n",
       "      <td>...</td>\n",
       "      <td>...</td>\n",
       "      <td>...</td>\n",
       "      <td>...</td>\n",
       "      <td>...</td>\n",
       "      <td>...</td>\n",
       "      <td>...</td>\n",
       "      <td>...</td>\n",
       "    </tr>\n",
       "    <tr>\n",
       "      <th>995</th>\n",
       "      <td>C1995</td>\n",
       "      <td>33</td>\n",
       "      <td>43</td>\n",
       "      <td>22114.24</td>\n",
       "      <td>4</td>\n",
       "      <td>2</td>\n",
       "      <td>4</td>\n",
       "      <td>424</td>\n",
       "    </tr>\n",
       "    <tr>\n",
       "      <th>996</th>\n",
       "      <td>C1996</td>\n",
       "      <td>56</td>\n",
       "      <td>16</td>\n",
       "      <td>4379.61</td>\n",
       "      <td>1</td>\n",
       "      <td>1</td>\n",
       "      <td>1</td>\n",
       "      <td>111</td>\n",
       "    </tr>\n",
       "    <tr>\n",
       "      <th>997</th>\n",
       "      <td>C1997</td>\n",
       "      <td>43</td>\n",
       "      <td>54</td>\n",
       "      <td>21440.96</td>\n",
       "      <td>2</td>\n",
       "      <td>4</td>\n",
       "      <td>4</td>\n",
       "      <td>244</td>\n",
       "    </tr>\n",
       "    <tr>\n",
       "      <th>998</th>\n",
       "      <td>C1998</td>\n",
       "      <td>47</td>\n",
       "      <td>43</td>\n",
       "      <td>14896.24</td>\n",
       "      <td>2</td>\n",
       "      <td>3</td>\n",
       "      <td>2</td>\n",
       "      <td>232</td>\n",
       "    </tr>\n",
       "    <tr>\n",
       "      <th>999</th>\n",
       "      <td>C1999</td>\n",
       "      <td>43</td>\n",
       "      <td>49</td>\n",
       "      <td>19125.50</td>\n",
       "      <td>2</td>\n",
       "      <td>3</td>\n",
       "      <td>3</td>\n",
       "      <td>233</td>\n",
       "    </tr>\n",
       "  </tbody>\n",
       "</table>\n",
       "<p>1000 rows × 8 columns</p>\n",
       "</div>"
      ],
      "text/plain": [
       "    customer_id  recency  frequency  monetary r_score f_score m_score  \\\n",
       "0         C1000       52         52  19370.18       1       3       3   \n",
       "1         C1001       42         45  15973.26       2       3       3   \n",
       "2         C1002       35         70  28596.55       4       4       4   \n",
       "3         C1003       38         69  26206.11       3       4       4   \n",
       "4         C1004       32         37  14422.93       4       2       2   \n",
       "..          ...      ...        ...       ...     ...     ...     ...   \n",
       "995       C1995       33         43  22114.24       4       2       4   \n",
       "996       C1996       56         16   4379.61       1       1       1   \n",
       "997       C1997       43         54  21440.96       2       4       4   \n",
       "998       C1998       47         43  14896.24       2       3       2   \n",
       "999       C1999       43         49  19125.50       2       3       3   \n",
       "\n",
       "    rfm_score  \n",
       "0         133  \n",
       "1         233  \n",
       "2         444  \n",
       "3         344  \n",
       "4         422  \n",
       "..        ...  \n",
       "995       424  \n",
       "996       111  \n",
       "997       244  \n",
       "998       232  \n",
       "999       233  \n",
       "\n",
       "[1000 rows x 8 columns]"
      ]
     },
     "execution_count": 104,
     "metadata": {},
     "output_type": "execute_result"
    }
   ],
   "source": [
    "rfm[['customer_id', 'recency', 'frequency', 'monetary', 'r_score', 'f_score', 'm_score', 'rfm_score']]\n"
   ]
  },
  {
   "cell_type": "code",
   "execution_count": 106,
   "id": "eec69c1c-220b-432f-a9dc-b5533f951b61",
   "metadata": {},
   "outputs": [
    {
     "data": {
      "text/html": [
       "<div>\n",
       "<style scoped>\n",
       "    .dataframe tbody tr th:only-of-type {\n",
       "        vertical-align: middle;\n",
       "    }\n",
       "\n",
       "    .dataframe tbody tr th {\n",
       "        vertical-align: top;\n",
       "    }\n",
       "\n",
       "    .dataframe thead th {\n",
       "        text-align: right;\n",
       "    }\n",
       "</style>\n",
       "<table border=\"1\" class=\"dataframe\">\n",
       "  <thead>\n",
       "    <tr style=\"text-align: right;\">\n",
       "      <th></th>\n",
       "      <th>customer_id</th>\n",
       "      <th>recency</th>\n",
       "      <th>frequency</th>\n",
       "      <th>monetary</th>\n",
       "      <th>r_score</th>\n",
       "      <th>f_score</th>\n",
       "      <th>m_score</th>\n",
       "      <th>rfm_score</th>\n",
       "    </tr>\n",
       "  </thead>\n",
       "  <tbody>\n",
       "    <tr>\n",
       "      <th>2</th>\n",
       "      <td>C1002</td>\n",
       "      <td>35</td>\n",
       "      <td>70</td>\n",
       "      <td>28596.55</td>\n",
       "      <td>4</td>\n",
       "      <td>4</td>\n",
       "      <td>4</td>\n",
       "      <td>444</td>\n",
       "    </tr>\n",
       "    <tr>\n",
       "      <th>12</th>\n",
       "      <td>C1012</td>\n",
       "      <td>33</td>\n",
       "      <td>55</td>\n",
       "      <td>22461.79</td>\n",
       "      <td>4</td>\n",
       "      <td>4</td>\n",
       "      <td>4</td>\n",
       "      <td>444</td>\n",
       "    </tr>\n",
       "    <tr>\n",
       "      <th>23</th>\n",
       "      <td>C1023</td>\n",
       "      <td>33</td>\n",
       "      <td>56</td>\n",
       "      <td>22710.01</td>\n",
       "      <td>4</td>\n",
       "      <td>4</td>\n",
       "      <td>4</td>\n",
       "      <td>444</td>\n",
       "    </tr>\n",
       "    <tr>\n",
       "      <th>24</th>\n",
       "      <td>C1024</td>\n",
       "      <td>33</td>\n",
       "      <td>65</td>\n",
       "      <td>19676.96</td>\n",
       "      <td>4</td>\n",
       "      <td>4</td>\n",
       "      <td>4</td>\n",
       "      <td>444</td>\n",
       "    </tr>\n",
       "    <tr>\n",
       "      <th>41</th>\n",
       "      <td>C1041</td>\n",
       "      <td>31</td>\n",
       "      <td>55</td>\n",
       "      <td>20517.89</td>\n",
       "      <td>4</td>\n",
       "      <td>4</td>\n",
       "      <td>4</td>\n",
       "      <td>444</td>\n",
       "    </tr>\n",
       "    <tr>\n",
       "      <th>...</th>\n",
       "      <td>...</td>\n",
       "      <td>...</td>\n",
       "      <td>...</td>\n",
       "      <td>...</td>\n",
       "      <td>...</td>\n",
       "      <td>...</td>\n",
       "      <td>...</td>\n",
       "      <td>...</td>\n",
       "    </tr>\n",
       "    <tr>\n",
       "      <th>939</th>\n",
       "      <td>C1939</td>\n",
       "      <td>33</td>\n",
       "      <td>56</td>\n",
       "      <td>23214.86</td>\n",
       "      <td>4</td>\n",
       "      <td>4</td>\n",
       "      <td>4</td>\n",
       "      <td>444</td>\n",
       "    </tr>\n",
       "    <tr>\n",
       "      <th>957</th>\n",
       "      <td>C1957</td>\n",
       "      <td>31</td>\n",
       "      <td>57</td>\n",
       "      <td>22343.11</td>\n",
       "      <td>4</td>\n",
       "      <td>4</td>\n",
       "      <td>4</td>\n",
       "      <td>444</td>\n",
       "    </tr>\n",
       "    <tr>\n",
       "      <th>974</th>\n",
       "      <td>C1974</td>\n",
       "      <td>32</td>\n",
       "      <td>63</td>\n",
       "      <td>22784.50</td>\n",
       "      <td>4</td>\n",
       "      <td>4</td>\n",
       "      <td>4</td>\n",
       "      <td>444</td>\n",
       "    </tr>\n",
       "    <tr>\n",
       "      <th>980</th>\n",
       "      <td>C1980</td>\n",
       "      <td>31</td>\n",
       "      <td>70</td>\n",
       "      <td>23097.37</td>\n",
       "      <td>4</td>\n",
       "      <td>4</td>\n",
       "      <td>4</td>\n",
       "      <td>444</td>\n",
       "    </tr>\n",
       "    <tr>\n",
       "      <th>981</th>\n",
       "      <td>C1981</td>\n",
       "      <td>33</td>\n",
       "      <td>77</td>\n",
       "      <td>27065.98</td>\n",
       "      <td>4</td>\n",
       "      <td>4</td>\n",
       "      <td>4</td>\n",
       "      <td>444</td>\n",
       "    </tr>\n",
       "  </tbody>\n",
       "</table>\n",
       "<p>81 rows × 8 columns</p>\n",
       "</div>"
      ],
      "text/plain": [
       "    customer_id  recency  frequency  monetary r_score f_score m_score  \\\n",
       "2         C1002       35         70  28596.55       4       4       4   \n",
       "12        C1012       33         55  22461.79       4       4       4   \n",
       "23        C1023       33         56  22710.01       4       4       4   \n",
       "24        C1024       33         65  19676.96       4       4       4   \n",
       "41        C1041       31         55  20517.89       4       4       4   \n",
       "..          ...      ...        ...       ...     ...     ...     ...   \n",
       "939       C1939       33         56  23214.86       4       4       4   \n",
       "957       C1957       31         57  22343.11       4       4       4   \n",
       "974       C1974       32         63  22784.50       4       4       4   \n",
       "980       C1980       31         70  23097.37       4       4       4   \n",
       "981       C1981       33         77  27065.98       4       4       4   \n",
       "\n",
       "    rfm_score  \n",
       "2         444  \n",
       "12        444  \n",
       "23        444  \n",
       "24        444  \n",
       "41        444  \n",
       "..        ...  \n",
       "939       444  \n",
       "957       444  \n",
       "974       444  \n",
       "980       444  \n",
       "981       444  \n",
       "\n",
       "[81 rows x 8 columns]"
      ]
     },
     "execution_count": 106,
     "metadata": {},
     "output_type": "execute_result"
    }
   ],
   "source": [
    "# Top customers: RFM score = 444\n",
    "rfm[rfm['rfm_score'] == '444']\n"
   ]
  },
  {
   "cell_type": "code",
   "execution_count": 107,
   "id": "67a73f03-7664-4bca-88f1-69fc393e8244",
   "metadata": {},
   "outputs": [],
   "source": [
    "def assign_segment(rfm_row):\n",
    "    if rfm_row['rfm_score'] == '444':\n",
    "        return 'Champions'\n",
    "    elif rfm_row['r_score'] == '4':\n",
    "        return 'Recent Customers'\n",
    "    elif rfm_row['f_score'] == '4':\n",
    "        return 'Frequent Buyers'\n",
    "    elif rfm_row['m_score'] == '4':\n",
    "        return 'Big Spenders'\n",
    "    elif rfm_row['r_score'] == '1':\n",
    "        return 'Lost Customers'\n",
    "    else:\n",
    "        return 'Others'\n",
    "\n",
    "# Apply segment labeling\n",
    "rfm['segment'] = rfm.apply(assign_segment, axis=1)"
   ]
  },
  {
   "cell_type": "code",
   "execution_count": 108,
   "id": "30e6802a-e717-4b0b-a2b9-b7f8de7f9cfb",
   "metadata": {},
   "outputs": [
    {
     "data": {
      "text/plain": [
       "segment\n",
       "Others       919\n",
       "Champions     81\n",
       "Name: count, dtype: int64"
      ]
     },
     "execution_count": 108,
     "metadata": {},
     "output_type": "execute_result"
    }
   ],
   "source": [
    "rfm['segment'].value_counts()\n"
   ]
  },
  {
   "cell_type": "code",
   "execution_count": 109,
   "id": "029f5f99-7d31-4ac0-8dd6-e090b33870d8",
   "metadata": {},
   "outputs": [],
   "source": [
    "target_customers = rfm[rfm['segment'] == 'Champions']\n"
   ]
  },
  {
   "cell_type": "code",
   "execution_count": 110,
   "id": "36c57356-34dd-4b24-8a3c-a2f6463683af",
   "metadata": {},
   "outputs": [
    {
     "name": "stdout",
     "output_type": "stream",
     "text": [
      "    customer_id  recency  frequency  monetary r_score f_score m_score  \\\n",
      "2         C1002       35         70  28596.55       4       4       4   \n",
      "12        C1012       33         55  22461.79       4       4       4   \n",
      "23        C1023       33         56  22710.01       4       4       4   \n",
      "24        C1024       33         65  19676.96       4       4       4   \n",
      "41        C1041       31         55  20517.89       4       4       4   \n",
      "..          ...      ...        ...       ...     ...     ...     ...   \n",
      "939       C1939       33         56  23214.86       4       4       4   \n",
      "957       C1957       31         57  22343.11       4       4       4   \n",
      "974       C1974       32         63  22784.50       4       4       4   \n",
      "980       C1980       31         70  23097.37       4       4       4   \n",
      "981       C1981       33         77  27065.98       4       4       4   \n",
      "\n",
      "    rfm_score    segment  \n",
      "2         444  Champions  \n",
      "12        444  Champions  \n",
      "23        444  Champions  \n",
      "24        444  Champions  \n",
      "41        444  Champions  \n",
      "..        ...        ...  \n",
      "939       444  Champions  \n",
      "957       444  Champions  \n",
      "974       444  Champions  \n",
      "980       444  Champions  \n",
      "981       444  Champions  \n",
      "\n",
      "[81 rows x 9 columns]\n"
     ]
    }
   ],
   "source": [
    "print(target_customers)"
   ]
  },
  {
   "cell_type": "markdown",
   "id": "ef375110-b0fc-48d6-8ed2-e1e162e84a77",
   "metadata": {},
   "source": [
    "### Save the result"
   ]
  },
  {
   "cell_type": "code",
   "execution_count": 111,
   "id": "3dc58b23-bd47-4d20-89c1-0df5b639e499",
   "metadata": {},
   "outputs": [],
   "source": [
    "# Save to CSV\n",
    "target_customers.to_csv('champion_customers_report.csv', index=False)\n"
   ]
  },
  {
   "cell_type": "markdown",
   "id": "917405a3-142a-48fd-bac6-47acb3847506",
   "metadata": {},
   "source": [
    "Based on our analysis of Amazon customer purchase behavior and segmentation, we have identified key customer segments and tailored product offer strategies designed to maximize engagement and campaign effectiveness.\n",
    "\n",
    "Champions are our most valuable customers—they purchase frequently, spend the most, and have recently interacted with our platform. Their top product interests include Electronics, Health products, and Office Supplies. For this segment, we recommend offering exclusive early access to premium or new product launches, alongside loyalty rewards programs to deepen their engagement and encourage continued high-value purchases.\n",
    "\n",
    "Frequent Buyers regularly purchase across various categories but typically at moderate spending levels. Their preferred categories include Office Supplies and Household Essentials. Campaigns targeting this group should focus on bundle deals and subscription discounts, highlighting savings on everyday essentials. These offers cater to their consistent buying habits and encourage increased basket sizes.\n",
    "\n",
    "Big Spenders tend to purchase higher-cost items, often in categories like Electronics and Home Appliances. For this segment, high-ticket upsell opportunities and exclusive, limited-time offers are ideal. Personalized premium offers will resonate well and foster loyalty among these customers.\n",
    "\n",
    "Recent Customers have started shopping with us but have limited purchase history. They respond best to welcome incentives such as introductory discounts or product sampling campaigns across diverse categories, helping to build their purchase frequency and brand affinity.\n",
    "\n",
    "Lastly, Lost Customers—those who have not engaged with recent purchases—require win-back strategies involving heavy discounts and targeted email re-engagement campaigns. Special offers designed to rekindle interest can help bring these customers back into active status.\n",
    "\n",
    "By focusing marketing efforts on these segments and tailoring offers to their demonstrated preferences, we can significantly enhance campaign ROI and customer lifetime value."
   ]
  },
  {
   "cell_type": "markdown",
   "id": "7a2bbde8-f2b4-4061-a25f-35ac27bec983",
   "metadata": {},
   "source": [
    "## Link Orders with Products\n",
    "#### What types of offers or products are most suitable for each segment based on their past behavior?"
   ]
  },
  {
   "cell_type": "code",
   "execution_count": 112,
   "id": "a5f51a35-d872-42a9-86f4-67b15b8f81ef",
   "metadata": {},
   "outputs": [],
   "source": [
    "# Merge orders and order items\n",
    "order_items_full = order_items_clean.merge(orders_clean[['order_id', 'customer_id']], on='order_id', how='left')\n",
    "\n",
    "# Merge with products to get product details\n",
    "order_items_full = order_items_full.merge(products_clean, on='product_id', how='left')\n",
    "\n",
    "# Merge with RFM segments\n",
    "order_items_full = order_items_full.merge(rfm[['customer_id', 'segment']], on='customer_id', how='left')\n"
   ]
  },
  {
   "cell_type": "code",
   "execution_count": 113,
   "id": "d35d5789-f435-4307-aa86-a4eb2223e709",
   "metadata": {},
   "outputs": [
    {
     "name": "stdout",
     "output_type": "stream",
     "text": [
      "category\n",
      "Office Supplies    864\n",
      "Electronics        776\n",
      "Fashion            758\n",
      "Books              744\n",
      "Health             724\n",
      "Name: count, dtype: int64\n"
     ]
    }
   ],
   "source": [
    "champion_data = order_items_full[order_items_full['segment'] == 'Champions']\n",
    "\n",
    "# Most common product categories\n",
    "champion_top_categories = champion_data['category'].value_counts().head(5)\n",
    "print(champion_top_categories)\n"
   ]
  },
  {
   "cell_type": "markdown",
   "id": "d5255c41-f39c-4edc-9c21-d5854551a543",
   "metadata": {},
   "source": [
    "Based on our analysis of past customer behavior, we identified the most suitable product categories and offers for each segment. For our high-value Champions segment, we recommend focusing on Office Supplies, Electronics, and Fashion, as these categories show strong purchase activity. Tailored offers such as exclusive early access to new products, bundled deals, and loyalty program perks in these areas are likely to drive engagement and increase revenue. For the Others segment, which includes occasional and newer customers, we see significant interest in Books, Health, and Fashion categories. Introductory promotions, discounts, or free shipping on these popular items can help boost conversion and build long-term engagement. Overall, personalizing our campaign by aligning offers with these preferences should maximize impact and customer satisfaction."
   ]
  },
  {
   "cell_type": "code",
   "execution_count": 116,
   "id": "40549d49-9509-4c65-bf6b-44261e1d7abd",
   "metadata": {},
   "outputs": [],
   "source": [
    "def classify_churn(recency):\n",
    "    if recency <= 30:\n",
    "        return 'Active'\n",
    "    elif recency <= 90:\n",
    "        return 'At-Risk'\n",
    "    else:\n",
    "        return 'Churned'\n",
    "\n",
    "rfm['churn_status'] = rfm['recency'].apply(classify_churn)\n"
   ]
  },
  {
   "cell_type": "code",
   "execution_count": 117,
   "id": "e438798f-a7d9-4b58-a0e6-8b94cacff412",
   "metadata": {},
   "outputs": [
    {
     "data": {
      "text/plain": [
       "churn_status\n",
       "At-Risk    993\n",
       "Churned      7\n",
       "Name: count, dtype: int64"
      ]
     },
     "execution_count": 117,
     "metadata": {},
     "output_type": "execute_result"
    }
   ],
   "source": [
    "rfm['churn_status'].value_counts()\n"
   ]
  },
  {
   "cell_type": "code",
   "execution_count": 118,
   "id": "ac85ad7a-6e86-41bd-be8d-45dee579de19",
   "metadata": {},
   "outputs": [
    {
     "data": {
      "text/html": [
       "<div>\n",
       "<style scoped>\n",
       "    .dataframe tbody tr th:only-of-type {\n",
       "        vertical-align: middle;\n",
       "    }\n",
       "\n",
       "    .dataframe tbody tr th {\n",
       "        vertical-align: top;\n",
       "    }\n",
       "\n",
       "    .dataframe thead th {\n",
       "        text-align: right;\n",
       "    }\n",
       "</style>\n",
       "<table border=\"1\" class=\"dataframe\">\n",
       "  <thead>\n",
       "    <tr style=\"text-align: right;\">\n",
       "      <th>churn_status</th>\n",
       "      <th>At-Risk</th>\n",
       "      <th>Churned</th>\n",
       "    </tr>\n",
       "    <tr>\n",
       "      <th>segment</th>\n",
       "      <th></th>\n",
       "      <th></th>\n",
       "    </tr>\n",
       "  </thead>\n",
       "  <tbody>\n",
       "    <tr>\n",
       "      <th>Champions</th>\n",
       "      <td>81</td>\n",
       "      <td>0</td>\n",
       "    </tr>\n",
       "    <tr>\n",
       "      <th>Others</th>\n",
       "      <td>912</td>\n",
       "      <td>7</td>\n",
       "    </tr>\n",
       "  </tbody>\n",
       "</table>\n",
       "</div>"
      ],
      "text/plain": [
       "churn_status  At-Risk  Churned\n",
       "segment                       \n",
       "Champions          81        0\n",
       "Others            912        7"
      ]
     },
     "execution_count": 118,
     "metadata": {},
     "output_type": "execute_result"
    }
   ],
   "source": [
    "pd.crosstab(rfm['segment'], rfm['churn_status'])\n"
   ]
  },
  {
   "cell_type": "code",
   "execution_count": 119,
   "id": "3145ae4a-800e-418b-be3d-d42180cbcc7e",
   "metadata": {},
   "outputs": [
    {
     "name": "stdout",
     "output_type": "stream",
     "text": [
      "Churned VIPs: 0\n"
     ]
    }
   ],
   "source": [
    "churned_vips = rfm[(rfm['segment'].isin(['Champions', 'Big Spenders'])) & (rfm['churn_status'] == 'Churned')]\n",
    "print(\"Churned VIPs:\", len(churned_vips))\n"
   ]
  },
  {
   "cell_type": "markdown",
   "id": "d1a460c4-086e-4bde-ae3b-32a86c6d1859",
   "metadata": {},
   "source": [
    "We have identified early signs of customer inactivity that require our attention to minimize potential churn. Notably, 81 of our most valuable customers—classified as \"Champions\" for their recent, frequent, and high-value purchases—are currently in the \"At-Risk\" category, meaning they have not made a purchase in the past 31 to 90 days. While none of these Champions have fully churned yet (which we define as no purchase in over 90 days), this sizable group of at-risk VIP customers signals an urgent opportunity for targeted engagement.\n",
    "\n",
    "In the broader customer base, 912 others fall into the at-risk category and 7 have fully churned. Although these customers are less critical in terms of immediate revenue impact compared to Champions, they still represent potential revenue loss if left unaddressed.\n",
    "\n",
    "We recommend launching a personalized re-engagement campaign specifically aimed at the at-risk Champions. This could include exclusive offers such as early access to new products, limited-time discounts, or loyalty program incentives to encourage them back. Monitoring this segment closely with weekly updates will help us quickly identify any movement toward full churn.\n",
    "\n",
    "For the smaller group of churned customers outside the Champions segment, a lighter touch campaign involving win-back emails or feedback surveys may be effective, depending on available marketing resources.\n",
    "\n",
    "Focusing on these at-risk Champions now will maximize retention of our highest-value customers and improve overall customer lifetime value."
   ]
  },
  {
   "cell_type": "markdown",
   "id": "17c1a7f7-ac64-4ece-99f1-c7417b88029d",
   "metadata": {},
   "source": [
    "#### Any additional insights that could help us shape a more effective campaign?"
   ]
  },
  {
   "cell_type": "code",
   "execution_count": 121,
   "id": "45c592d2-affb-4e8d-9c2d-06d1e6959c07",
   "metadata": {},
   "outputs": [
    {
     "data": {
      "text/html": [
       "<div>\n",
       "<style scoped>\n",
       "    .dataframe tbody tr th:only-of-type {\n",
       "        vertical-align: middle;\n",
       "    }\n",
       "\n",
       "    .dataframe tbody tr th {\n",
       "        vertical-align: top;\n",
       "    }\n",
       "\n",
       "    .dataframe thead th {\n",
       "        text-align: right;\n",
       "    }\n",
       "</style>\n",
       "<table border=\"1\" class=\"dataframe\">\n",
       "  <thead>\n",
       "    <tr style=\"text-align: right;\">\n",
       "      <th>category</th>\n",
       "      <th>Books</th>\n",
       "      <th>Electronics</th>\n",
       "      <th>Fashion</th>\n",
       "      <th>Health</th>\n",
       "      <th>Home &amp; Kitchen</th>\n",
       "      <th>Office Supplies</th>\n",
       "      <th>Sports</th>\n",
       "    </tr>\n",
       "    <tr>\n",
       "      <th>segment</th>\n",
       "      <th></th>\n",
       "      <th></th>\n",
       "      <th></th>\n",
       "      <th></th>\n",
       "      <th></th>\n",
       "      <th></th>\n",
       "      <th></th>\n",
       "    </tr>\n",
       "  </thead>\n",
       "  <tbody>\n",
       "    <tr>\n",
       "      <th>Champions</th>\n",
       "      <td>0.143022</td>\n",
       "      <td>0.149173</td>\n",
       "      <td>0.145713</td>\n",
       "      <td>0.139177</td>\n",
       "      <td>0.121300</td>\n",
       "      <td>0.166090</td>\n",
       "      <td>0.135525</td>\n",
       "    </tr>\n",
       "    <tr>\n",
       "      <th>Others</th>\n",
       "      <td>0.145044</td>\n",
       "      <td>0.153910</td>\n",
       "      <td>0.149168</td>\n",
       "      <td>0.138833</td>\n",
       "      <td>0.119066</td>\n",
       "      <td>0.162131</td>\n",
       "      <td>0.131849</td>\n",
       "    </tr>\n",
       "  </tbody>\n",
       "</table>\n",
       "</div>"
      ],
      "text/plain": [
       "category      Books  Electronics   Fashion    Health  Home & Kitchen  \\\n",
       "segment                                                                \n",
       "Champions  0.143022     0.149173  0.145713  0.139177        0.121300   \n",
       "Others     0.145044     0.153910  0.149168  0.138833        0.119066   \n",
       "\n",
       "category   Office Supplies    Sports  \n",
       "segment                               \n",
       "Champions         0.166090  0.135525  \n",
       "Others            0.162131  0.131849  "
      ]
     },
     "execution_count": 121,
     "metadata": {},
     "output_type": "execute_result"
    }
   ],
   "source": [
    "# Top product categories by segment\n",
    "order_items_full.groupby('segment')['category'].value_counts(normalize=True).unstack().fillna(0)\n",
    "\n"
   ]
  },
  {
   "cell_type": "code",
   "execution_count": 122,
   "id": "6a598f21-ea6c-45fe-8d12-2e52671141a3",
   "metadata": {},
   "outputs": [
    {
     "data": {
      "text/html": [
       "<div>\n",
       "<style scoped>\n",
       "    .dataframe tbody tr th:only-of-type {\n",
       "        vertical-align: middle;\n",
       "    }\n",
       "\n",
       "    .dataframe tbody tr th {\n",
       "        vertical-align: top;\n",
       "    }\n",
       "\n",
       "    .dataframe thead th {\n",
       "        text-align: right;\n",
       "    }\n",
       "</style>\n",
       "<table border=\"1\" class=\"dataframe\">\n",
       "  <thead>\n",
       "    <tr style=\"text-align: right;\">\n",
       "      <th>day_of_week</th>\n",
       "      <th>Friday</th>\n",
       "      <th>Monday</th>\n",
       "      <th>Saturday</th>\n",
       "      <th>Sunday</th>\n",
       "      <th>Thursday</th>\n",
       "      <th>Tuesday</th>\n",
       "      <th>Wednesday</th>\n",
       "    </tr>\n",
       "    <tr>\n",
       "      <th>segment</th>\n",
       "      <th></th>\n",
       "      <th></th>\n",
       "      <th></th>\n",
       "      <th></th>\n",
       "      <th></th>\n",
       "      <th></th>\n",
       "      <th></th>\n",
       "    </tr>\n",
       "  </thead>\n",
       "  <tbody>\n",
       "    <tr>\n",
       "      <th>Champions</th>\n",
       "      <td>0.138906</td>\n",
       "      <td>0.142049</td>\n",
       "      <td>0.148963</td>\n",
       "      <td>0.127593</td>\n",
       "      <td>0.187932</td>\n",
       "      <td>0.111879</td>\n",
       "      <td>0.142678</td>\n",
       "    </tr>\n",
       "    <tr>\n",
       "      <th>Others</th>\n",
       "      <td>0.155234</td>\n",
       "      <td>0.150723</td>\n",
       "      <td>0.145217</td>\n",
       "      <td>0.123805</td>\n",
       "      <td>0.174123</td>\n",
       "      <td>0.097882</td>\n",
       "      <td>0.153017</td>\n",
       "    </tr>\n",
       "  </tbody>\n",
       "</table>\n",
       "</div>"
      ],
      "text/plain": [
       "day_of_week    Friday    Monday  Saturday    Sunday  Thursday   Tuesday  \\\n",
       "segment                                                                   \n",
       "Champions    0.138906  0.142049  0.148963  0.127593  0.187932  0.111879   \n",
       "Others       0.155234  0.150723  0.145217  0.123805  0.174123  0.097882   \n",
       "\n",
       "day_of_week  Wednesday  \n",
       "segment                 \n",
       "Champions     0.142678  \n",
       "Others        0.153017  "
      ]
     },
     "execution_count": 122,
     "metadata": {},
     "output_type": "execute_result"
    }
   ],
   "source": [
    "orders_clean['order_date'] = pd.to_datetime(orders_clean['order_date'], dayfirst=True)\n",
    "orders_clean['day_of_week'] = orders_clean['order_date'].dt.day_name()\n",
    "\n",
    "# Merge with RFM to get segment\n",
    "orders_seg = orders_clean.merge(rfm[['customer_id', 'segment']], on='customer_id')\n",
    "\n",
    "orders_seg.groupby('segment')['day_of_week'].value_counts(normalize=True).unstack().fillna(0)\n"
   ]
  },
  {
   "cell_type": "code",
   "execution_count": 123,
   "id": "90f3acef-0cee-445c-b246-36420ab00c12",
   "metadata": {},
   "outputs": [
    {
     "data": {
      "text/html": [
       "<div>\n",
       "<style scoped>\n",
       "    .dataframe tbody tr th:only-of-type {\n",
       "        vertical-align: middle;\n",
       "    }\n",
       "\n",
       "    .dataframe tbody tr th {\n",
       "        vertical-align: top;\n",
       "    }\n",
       "\n",
       "    .dataframe thead th {\n",
       "        text-align: right;\n",
       "    }\n",
       "</style>\n",
       "<table border=\"1\" class=\"dataframe\">\n",
       "  <thead>\n",
       "    <tr style=\"text-align: right;\">\n",
       "      <th>churn_status</th>\n",
       "      <th>At-Risk</th>\n",
       "      <th>Churned</th>\n",
       "    </tr>\n",
       "    <tr>\n",
       "      <th>delivery_status</th>\n",
       "      <th></th>\n",
       "      <th></th>\n",
       "    </tr>\n",
       "  </thead>\n",
       "  <tbody>\n",
       "    <tr>\n",
       "      <th>Late</th>\n",
       "      <td>3574</td>\n",
       "      <td>15</td>\n",
       "    </tr>\n",
       "    <tr>\n",
       "      <th>On Time</th>\n",
       "      <td>3654</td>\n",
       "      <td>11</td>\n",
       "    </tr>\n",
       "  </tbody>\n",
       "</table>\n",
       "</div>"
      ],
      "text/plain": [
       "churn_status     At-Risk  Churned\n",
       "delivery_status                  \n",
       "Late                3574       15\n",
       "On Time             3654       11"
      ]
     },
     "execution_count": 123,
     "metadata": {},
     "output_type": "execute_result"
    }
   ],
   "source": [
    "# Delivery status by churn_status\n",
    "delivery_orders = deliveries_clean.merge(orders_clean[['order_id', 'customer_id']], on='order_id')\n",
    "delivery_orders = delivery_orders.merge(rfm[['customer_id', 'churn_status']], on='customer_id')\n",
    "\n",
    "pd.crosstab(delivery_orders['delivery_status'], delivery_orders['churn_status'])\n"
   ]
  },
  {
   "cell_type": "code",
   "execution_count": 126,
   "id": "a2fb7d9f-d171-40a3-9e3b-730c60731979",
   "metadata": {},
   "outputs": [],
   "source": [
    "rfm = rfm.merge(customers_clean[['customer_id', 'has_email']], on='customer_id', how='left')"
   ]
  },
  {
   "cell_type": "code",
   "execution_count": 127,
   "id": "e2e7f10d-d141-489f-8434-33324ee7918d",
   "metadata": {},
   "outputs": [
    {
     "data": {
      "text/plain": [
       "has_email\n",
       "1    950\n",
       "0     50\n",
       "Name: count, dtype: int64"
      ]
     },
     "execution_count": 127,
     "metadata": {},
     "output_type": "execute_result"
    }
   ],
   "source": [
    "rfm['has_email'].value_counts()\n"
   ]
  },
  {
   "cell_type": "code",
   "execution_count": 128,
   "id": "ef8d4c06-f85d-462e-876b-666e53cdfd0d",
   "metadata": {},
   "outputs": [
    {
     "name": "stdout",
     "output_type": "stream",
     "text": [
      "We can reach 77 out of 81 Champions by email.\n"
     ]
    }
   ],
   "source": [
    "vip_emailable = rfm[(rfm['segment'] == 'Champions') & (rfm['has_email'] == 1)]\n",
    "print(f\"We can reach {len(vip_emailable)} out of {rfm[rfm['segment'] == 'Champions'].shape[0]} Champions by email.\")\n"
   ]
  },
  {
   "cell_type": "markdown",
   "id": "183df8b8-97b5-469e-9fa0-aae310293b53",
   "metadata": {},
   "source": [
    "Based on our analysis, both Champions and Other customer segments show strong purchasing preferences for Office Supplies, Electronics, Books, and Fashion categories. These categories should be prioritized in upcoming campaigns to maximize engagement across segments. Regarding timing, Champions tend to place more orders on Thursdays and maintain steady activity on Wednesdays and Mondays, suggesting that mid-week campaign launches could be most effective for this high-value group. Other customers are more active on Mondays and Fridays, so segmenting campaign timing based on these behaviors could improve overall response rates.\n",
    "\n",
    "Delivery performance also plays a role in customer retention. Our data indicates that customers who experience late deliveries have a slightly higher likelihood of being at risk or churning. This highlights the importance of improving shipping reliability and potentially offering compensation or apologies to those affected, which may reduce churn.\n",
    "\n",
    "In terms of communication reach, out of 81 Champions, 77 have valid email addresses, providing a solid base for targeted email marketing. Efforts should also be made to update contact information for unreachable customers to expand this audience.\n",
    "\n",
    "In summary, tailoring product offers to favored categories, timing campaigns to align with segment-specific ordering patterns, addressing delivery issues proactively, and focusing on email outreach for high-value customers will help shape a more effective and impactful campaign."
   ]
  },
  {
   "cell_type": "code",
   "execution_count": null,
   "id": "e07eee34-26cb-462b-85d9-b9b39c7b0790",
   "metadata": {},
   "outputs": [],
   "source": []
  }
 ],
 "metadata": {
  "kernelspec": {
   "display_name": "Python 3 (ipykernel)",
   "language": "python",
   "name": "python3"
  },
  "language_info": {
   "codemirror_mode": {
    "name": "ipython",
    "version": 3
   },
   "file_extension": ".py",
   "mimetype": "text/x-python",
   "name": "python",
   "nbconvert_exporter": "python",
   "pygments_lexer": "ipython3",
   "version": "3.12.4"
  }
 },
 "nbformat": 4,
 "nbformat_minor": 5
}
